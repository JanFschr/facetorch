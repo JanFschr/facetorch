{
  "nbformat": 4,
  "nbformat_minor": 0,
  "metadata": {
    "colab": {
      "provenance": []
    },
    "kernelspec": {
      "name": "python3",
      "display_name": "Python 3"
    },
    "language_info": {
      "name": "python"
    },
    "accelerator": "GPU",
    "gpuClass": "standard"
  },
  "cells": [
    {
      "cell_type": "markdown",
      "source": [
        "<a target=\"_blank\" href=\"https://colab.research.google.com/github/tomas-gajarsky/facetorch/blob/main/notebooks/facetorch_notebook_demo.ipynb\">\n",
        "<img src=\"https://colab.research.google.com/assets/colab-badge.svg\" alt=\"Open In Colab\"/>\n",
        "</a>\n"
      ],
      "metadata": {
        "id": "y-Fc6vowtvad"
      }
    },
    {
      "cell_type": "markdown",
      "source": [
        "# Facetorch notebook demo\n"
      ],
      "metadata": {
        "id": "aY6hmi5helSy"
      }
    },
    {
      "cell_type": "markdown",
      "source": [
        "## Check GPU availability"
      ],
      "metadata": {
        "id": "d2Xm8wutei55"
      }
    },
    {
      "cell_type": "code",
      "execution_count": 9,
      "metadata": {
        "colab": {
          "base_uri": "https://localhost:8080/"
        },
        "id": "hw6shPzyfeR_",
        "outputId": "d67bd231-91bf-48ca-e144-cc4cbf96808c"
      },
      "outputs": [
        {
          "output_type": "stream",
          "name": "stdout",
          "text": [
            "Sat Jan 28 13:57:14 2023       \n",
            "+-----------------------------------------------------------------------------+\n",
            "| NVIDIA-SMI 510.47.03    Driver Version: 510.47.03    CUDA Version: 11.6     |\n",
            "|-------------------------------+----------------------+----------------------+\n",
            "| GPU  Name        Persistence-M| Bus-Id        Disp.A | Volatile Uncorr. ECC |\n",
            "| Fan  Temp  Perf  Pwr:Usage/Cap|         Memory-Usage | GPU-Util  Compute M. |\n",
            "|                               |                      |               MIG M. |\n",
            "|===============================+======================+======================|\n",
            "|   0  Tesla T4            Off  | 00000000:00:04.0 Off |                    0 |\n",
            "| N/A   57C    P0    26W /  70W |      0MiB / 15360MiB |      0%      Default |\n",
            "|                               |                      |                  N/A |\n",
            "+-------------------------------+----------------------+----------------------+\n",
            "                                                                               \n",
            "+-----------------------------------------------------------------------------+\n",
            "| Processes:                                                                  |\n",
            "|  GPU   GI   CI        PID   Type   Process name                  GPU Memory |\n",
            "|        ID   ID                                                   Usage      |\n",
            "|=============================================================================|\n",
            "|  No running processes found                                                 |\n",
            "+-----------------------------------------------------------------------------+\n",
            "time: 829 ms (started: 2023-01-28 13:57:13 +00:00)\n"
          ]
        }
      ],
      "source": [
        "# Check GPU availability\n",
        "!nvidia-smi\n",
        "# Edit -> Notebook settings -> Hardware accelerator\n",
        "\n"
      ]
    },
    {
      "cell_type": "markdown",
      "source": [
        "## Add cell timer to the notebook"
      ],
      "metadata": {
        "id": "7A2_hD8oea-0"
      }
    },
    {
      "cell_type": "code",
      "source": [
        "!pip install ipython-autotime\n",
        "%load_ext autotime"
      ],
      "metadata": {
        "colab": {
          "base_uri": "https://localhost:8080/"
        },
        "id": "avdwTaKrdjVo",
        "outputId": "168e8f59-47a8-4864-9af3-dfffb83b1ad8"
      },
      "execution_count": 10,
      "outputs": [
        {
          "output_type": "stream",
          "name": "stdout",
          "text": [
            "Looking in indexes: https://pypi.org/simple, https://us-python.pkg.dev/colab-wheels/public/simple/\n",
            "Requirement already satisfied: ipython-autotime in /usr/local/lib/python3.8/dist-packages (0.3.1)\n",
            "Requirement already satisfied: ipython in /usr/local/lib/python3.8/dist-packages (from ipython-autotime) (7.9.0)\n",
            "Requirement already satisfied: decorator in /usr/local/lib/python3.8/dist-packages (from ipython->ipython-autotime) (4.4.2)\n",
            "Requirement already satisfied: traitlets>=4.2 in /usr/local/lib/python3.8/dist-packages (from ipython->ipython-autotime) (5.7.1)\n",
            "Requirement already satisfied: prompt-toolkit<2.1.0,>=2.0.0 in /usr/local/lib/python3.8/dist-packages (from ipython->ipython-autotime) (2.0.10)\n",
            "Requirement already satisfied: jedi>=0.10 in /usr/local/lib/python3.8/dist-packages (from ipython->ipython-autotime) (0.18.2)\n",
            "Requirement already satisfied: setuptools>=18.5 in /usr/local/lib/python3.8/dist-packages (from ipython->ipython-autotime) (57.4.0)\n",
            "Requirement already satisfied: pygments in /usr/local/lib/python3.8/dist-packages (from ipython->ipython-autotime) (2.6.1)\n",
            "Requirement already satisfied: pexpect in /usr/local/lib/python3.8/dist-packages (from ipython->ipython-autotime) (4.8.0)\n",
            "Requirement already satisfied: backcall in /usr/local/lib/python3.8/dist-packages (from ipython->ipython-autotime) (0.2.0)\n",
            "Requirement already satisfied: pickleshare in /usr/local/lib/python3.8/dist-packages (from ipython->ipython-autotime) (0.7.5)\n",
            "Requirement already satisfied: parso<0.9.0,>=0.8.0 in /usr/local/lib/python3.8/dist-packages (from jedi>=0.10->ipython->ipython-autotime) (0.8.3)\n",
            "Requirement already satisfied: wcwidth in /usr/local/lib/python3.8/dist-packages (from prompt-toolkit<2.1.0,>=2.0.0->ipython->ipython-autotime) (0.2.5)\n",
            "Requirement already satisfied: six>=1.9.0 in /usr/local/lib/python3.8/dist-packages (from prompt-toolkit<2.1.0,>=2.0.0->ipython->ipython-autotime) (1.15.0)\n",
            "Requirement already satisfied: ptyprocess>=0.5 in /usr/local/lib/python3.8/dist-packages (from pexpect->ipython->ipython-autotime) (0.7.0)\n",
            "\u001b[33mWARNING: Running pip as the 'root' user can result in broken permissions and conflicting behaviour with the system package manager. It is recommended to use a virtual environment instead: https://pip.pypa.io/warnings/venv\u001b[0m\u001b[33m\n",
            "\u001b[0mThe autotime extension is already loaded. To reload it, use:\n",
            "  %reload_ext autotime\n",
            "time: 3.14 s (started: 2023-01-28 13:57:14 +00:00)\n"
          ]
        }
      ]
    },
    {
      "cell_type": "markdown",
      "source": [],
      "metadata": {
        "id": "IGfyklYg4KED"
      }
    },
    {
      "cell_type": "markdown",
      "source": [
        "## Install dependencies"
      ],
      "metadata": {
        "id": "5IGzI2xfeWgq"
      }
    },
    {
      "cell_type": "code",
      "source": [
        "!python --version\n",
        "!python -m pip install --upgrade pip\n",
        "!python -m pip install facetorch>=0.2.0\n",
        "\n",
        "!pip list | grep facetorch"
      ],
      "metadata": {
        "id": "ridAvO8CyTNa",
        "colab": {
          "base_uri": "https://localhost:8080/"
        },
        "outputId": "90fe62ee-b1c0-4e05-e551-b5c97426d82b"
      },
      "execution_count": 11,
      "outputs": [
        {
          "output_type": "stream",
          "name": "stdout",
          "text": [
            "Python 3.8.10\n",
            "Looking in indexes: https://pypi.org/simple, https://us-python.pkg.dev/colab-wheels/public/simple/\n",
            "Requirement already satisfied: pip in /usr/local/lib/python3.8/dist-packages (22.3.1)\n",
            "\u001b[33mWARNING: Running pip as the 'root' user can result in broken permissions and conflicting behaviour with the system package manager. It is recommended to use a virtual environment instead: https://pip.pypa.io/warnings/venv\u001b[0m\u001b[33m\n",
            "\u001b[0m\u001b[33mWARNING: Running pip as the 'root' user can result in broken permissions and conflicting behaviour with the system package manager. It is recommended to use a virtual environment instead: https://pip.pypa.io/warnings/venv\u001b[0m\u001b[33m\n",
            "\u001b[0mfacetorch                     0.2.0\n",
            "time: 10 s (started: 2023-01-28 13:57:17 +00:00)\n"
          ]
        }
      ]
    },
    {
      "cell_type": "markdown",
      "source": [
        "## Download config and image"
      ],
      "metadata": {
        "id": "FUXdsQsRkU3P"
      }
    },
    {
      "cell_type": "code",
      "source": [
        "!wget -O ./test.jpg https://github.com/tomas-gajarsky/facetorch/blob/main/data/input/test.jpg?raw=true\n",
        "!wget -O ./gpu.config.yml https://raw.githubusercontent.com/tomas-gajarsky/facetorch/main/conf/merged/gpu.merged.config.yaml"
      ],
      "metadata": {
        "colab": {
          "base_uri": "https://localhost:8080/"
        },
        "id": "2POqMwL6kZc1",
        "outputId": "ace41e95-2989-4f35-8845-ac768e7f94a8"
      },
      "execution_count": 12,
      "outputs": [
        {
          "output_type": "stream",
          "name": "stdout",
          "text": [
            "--2023-01-28 13:57:27--  https://github.com/tomas-gajarsky/facetorch/blob/main/data/input/test.jpg?raw=true\n",
            "Resolving github.com (github.com)... 192.30.255.113\n",
            "Connecting to github.com (github.com)|192.30.255.113|:443... connected.\n",
            "HTTP request sent, awaiting response... 302 Found\n",
            "Location: https://github.com/tomas-gajarsky/facetorch/raw/main/data/input/test.jpg [following]\n",
            "--2023-01-28 13:57:28--  https://github.com/tomas-gajarsky/facetorch/raw/main/data/input/test.jpg\n",
            "Reusing existing connection to github.com:443.\n",
            "HTTP request sent, awaiting response... 302 Found\n",
            "Location: https://raw.githubusercontent.com/tomas-gajarsky/facetorch/main/data/input/test.jpg [following]\n",
            "--2023-01-28 13:57:28--  https://raw.githubusercontent.com/tomas-gajarsky/facetorch/main/data/input/test.jpg\n",
            "Resolving raw.githubusercontent.com (raw.githubusercontent.com)... 185.199.109.133, 185.199.111.133, 185.199.110.133, ...\n",
            "Connecting to raw.githubusercontent.com (raw.githubusercontent.com)|185.199.109.133|:443... connected.\n",
            "HTTP request sent, awaiting response... 200 OK\n",
            "Length: 131281 (128K) [image/jpeg]\n",
            "Saving to: ‘./test.jpg’\n",
            "\n",
            "./test.jpg          100%[===================>] 128.20K  --.-KB/s    in 0.01s   \n",
            "\n",
            "2023-01-28 13:57:28 (9.03 MB/s) - ‘./test.jpg’ saved [131281/131281]\n",
            "\n",
            "--2023-01-28 13:57:28--  https://raw.githubusercontent.com/tomas-gajarsky/facetorch/feature/colab_notebook/conf/merged/gpu.merged.config.yaml\n",
            "Resolving raw.githubusercontent.com (raw.githubusercontent.com)... 185.199.108.133, 185.199.109.133, 185.199.110.133, ...\n",
            "Connecting to raw.githubusercontent.com (raw.githubusercontent.com)|185.199.108.133|:443... connected.\n",
            "HTTP request sent, awaiting response... 200 OK\n",
            "Length: 10529 (10K) [text/plain]\n",
            "Saving to: ‘./gpu.config.yml’\n",
            "\n",
            "./gpu.config.yml    100%[===================>]  10.28K  --.-KB/s    in 0s      \n",
            "\n",
            "2023-01-28 13:57:28 (92.9 MB/s) - ‘./gpu.config.yml’ saved [10529/10529]\n",
            "\n",
            "time: 336 ms (started: 2023-01-28 13:57:27 +00:00)\n"
          ]
        }
      ]
    },
    {
      "cell_type": "markdown",
      "source": [
        "## Import packages"
      ],
      "metadata": {
        "id": "Kd09Logze31A"
      }
    },
    {
      "cell_type": "code",
      "source": [
        "from facetorch import FaceAnalyzer\n",
        "from omegaconf import OmegaConf\n",
        "from torch.nn.functional import cosine_similarity\n",
        "from typing import Dict\n",
        "import operator\n"
      ],
      "metadata": {
        "colab": {
          "base_uri": "https://localhost:8080/"
        },
        "id": "ZBPJj36qr4wc",
        "outputId": "98afb9e4-682c-4d26-95df-196d46f74a87"
      },
      "execution_count": 13,
      "outputs": [
        {
          "output_type": "stream",
          "name": "stdout",
          "text": [
            "time: 1.46 ms (started: 2023-01-28 13:57:28 +00:00)\n"
          ]
        }
      ]
    },
    {
      "cell_type": "markdown",
      "source": [
        "## Configure"
      ],
      "metadata": {
        "id": "CZPc7PeOe8-0"
      }
    },
    {
      "cell_type": "code",
      "source": [
        "path_image=\"./test.jpg\"\n",
        "path_config=\"gpu.config.yml\"\n",
        "\n",
        "\n",
        "cfg = OmegaConf.load(path_config)"
      ],
      "metadata": {
        "colab": {
          "base_uri": "https://localhost:8080/"
        },
        "id": "MPrpxwu7aeC2",
        "outputId": "f879c636-9574-48bc-acd5-bc1d38860515"
      },
      "execution_count": 14,
      "outputs": [
        {
          "output_type": "stream",
          "name": "stdout",
          "text": [
            "time: 83.6 ms (started: 2023-01-28 13:57:28 +00:00)\n"
          ]
        }
      ]
    },
    {
      "cell_type": "markdown",
      "source": [
        "## Startup"
      ],
      "metadata": {
        "id": "OP_dRHmaeMut"
      }
    },
    {
      "cell_type": "code",
      "source": [
        "# initialize\n",
        "analyzer = FaceAnalyzer(cfg.analyzer)\n",
        "\n",
        "# warmup\n",
        "response = analyzer.run(\n",
        "        path_image=path_image,\n",
        "        batch_size=cfg.batch_size,\n",
        "        fix_img_size=cfg.fix_img_size,\n",
        "        return_img_data=False,\n",
        "        include_tensors=True,\n",
        "        path_output=None,\n",
        "    )"
      ],
      "metadata": {
        "colab": {
          "base_uri": "https://localhost:8080/"
        },
        "id": "WTxaSgDxt9DS",
        "outputId": "92cb5f92-2eb1-4580-c767-2d34658cdc90"
      },
      "execution_count": 16,
      "outputs": [
        {
          "output_type": "stream",
          "name": "stderr",
          "text": [
            "{\"asctime\": \"2023-01-28 13:58:21,980\", \"levelname\": \"INFO\", \"message\": \"Initializing FaceAnalyzer\"}\n",
            "{\"asctime\": \"2023-01-28 13:58:21,982\", \"levelname\": \"INFO\", \"message\": \"Initializing BaseReader\"}\n",
            "{\"asctime\": \"2023-01-28 13:58:22,003\", \"levelname\": \"INFO\", \"message\": \"Initializing FaceDetector\"}\n",
            "{\"asctime\": \"2023-01-28 13:58:22,232\", \"levelname\": \"INFO\", \"message\": \"Initializing FaceUnifier\"}\n",
            "{\"asctime\": \"2023-01-28 13:58:22,250\", \"levelname\": \"INFO\", \"message\": \"Initializing FacePredictor objects\"}\n",
            "{\"asctime\": \"2023-01-28 13:58:22,252\", \"levelname\": \"INFO\", \"message\": \"Initializing FacePredictor embed\"}\n",
            "{\"asctime\": \"2023-01-28 13:58:22,426\", \"levelname\": \"INFO\", \"message\": \"Initializing FacePredictor verify\"}\n",
            "{\"asctime\": \"2023-01-28 13:58:23,713\", \"levelname\": \"INFO\", \"message\": \"Initializing FacePredictor fer\"}\n",
            "{\"asctime\": \"2023-01-28 13:58:23,934\", \"levelname\": \"INFO\", \"message\": \"Initializing FacePredictor deepfake\"}\n",
            "{\"asctime\": \"2023-01-28 13:58:24,521\", \"levelname\": \"INFO\", \"message\": \"Initializing FacePredictor align\"}\n",
            "{\"asctime\": \"2023-01-28 13:58:24,706\", \"levelname\": \"INFO\", \"message\": \"Initializing BaseUtilizer objects\"}\n",
            "{\"asctime\": \"2023-01-28 13:58:24,708\", \"levelname\": \"INFO\", \"message\": \"Initializing BaseUtilizer align\"}\n",
            "{\"asctime\": \"2023-01-28 13:58:24,736\", \"levelname\": \"INFO\", \"message\": \"Initializing BaseUtilizer draw_boxes\"}\n",
            "{\"asctime\": \"2023-01-28 13:58:24,742\", \"levelname\": \"INFO\", \"message\": \"Initializing BaseUtilizer draw_landmarks\"}\n",
            "{\"asctime\": \"2023-01-28 13:58:24,747\", \"levelname\": \"INFO\", \"message\": \"Running FaceAnalyzer\"}\n",
            "{\"asctime\": \"2023-01-28 13:58:24,748\", \"levelname\": \"INFO\", \"message\": \"Reading image\", \"path_image\": \"./test.jpg\"}\n",
            "{\"asctime\": \"2023-01-28 13:58:24,958\", \"levelname\": \"INFO\", \"message\": \"Detecting faces\"}\n",
            "{\"asctime\": \"2023-01-28 13:58:33,860\", \"levelname\": \"INFO\", \"message\": \"Number of faces: 4\"}\n",
            "{\"asctime\": \"2023-01-28 13:58:33,862\", \"levelname\": \"INFO\", \"message\": \"Unifying faces\"}\n",
            "/usr/local/lib/python3.8/dist-packages/torch/nn/modules/module.py:1194: UserWarning: operator() profile_node %383 : int = prim::profile_ivalue(%out_dtype.1)\n",
            " does not have profile information (Triggered internally at ../torch/csrc/jit/codegen/cuda/graph_fuser.cpp:105.)\n",
            "  return forward_call(*input, **kwargs)\n",
            "{\"asctime\": \"2023-01-28 13:58:33,932\", \"levelname\": \"INFO\", \"message\": \"Predicting facial features\"}\n",
            "{\"asctime\": \"2023-01-28 13:58:33,933\", \"levelname\": \"INFO\", \"message\": \"Running FacePredictor: embed\"}\n",
            "{\"asctime\": \"2023-01-28 13:58:34,047\", \"levelname\": \"INFO\", \"message\": \"Running FacePredictor: verify\"}\n",
            "{\"asctime\": \"2023-01-28 13:58:36,595\", \"levelname\": \"INFO\", \"message\": \"Running FacePredictor: fer\"}\n",
            "{\"asctime\": \"2023-01-28 13:58:36,787\", \"levelname\": \"INFO\", \"message\": \"Running FacePredictor: deepfake\"}\n",
            "{\"asctime\": \"2023-01-28 13:58:37,261\", \"levelname\": \"INFO\", \"message\": \"Running FacePredictor: align\"}\n",
            "{\"asctime\": \"2023-01-28 13:58:37,425\", \"levelname\": \"INFO\", \"message\": \"Utilizing facial features\"}\n",
            "{\"asctime\": \"2023-01-28 13:58:37,428\", \"levelname\": \"INFO\", \"message\": \"Running BaseUtilizer: align\"}\n",
            "{\"asctime\": \"2023-01-28 13:58:37,444\", \"levelname\": \"INFO\", \"message\": \"Running BaseUtilizer: draw_boxes\"}\n",
            "{\"asctime\": \"2023-01-28 13:58:37,503\", \"levelname\": \"INFO\", \"message\": \"Running BaseUtilizer: draw_landmarks\"}\n"
          ]
        },
        {
          "output_type": "stream",
          "name": "stdout",
          "text": [
            "time: 15.5 s (started: 2023-01-28 13:58:21 +00:00)\n"
          ]
        }
      ]
    },
    {
      "cell_type": "markdown",
      "source": [
        "## Inference"
      ],
      "metadata": {
        "id": "eAuOuEtIeJBy"
      }
    },
    {
      "cell_type": "code",
      "source": [
        "response = analyzer.run(\n",
        "        path_image=path_image,\n",
        "        batch_size=cfg.batch_size,\n",
        "        fix_img_size=cfg.fix_img_size,\n",
        "        return_img_data=False,\n",
        "        include_tensors=True,\n",
        "        path_output=None,\n",
        "    )"
      ],
      "metadata": {
        "id": "aYw49BWFuPmE",
        "colab": {
          "base_uri": "https://localhost:8080/"
        },
        "outputId": "7debbf38-b332-4b6e-eb4e-790c3dc07bca"
      },
      "execution_count": 17,
      "outputs": [
        {
          "output_type": "stream",
          "name": "stderr",
          "text": [
            "{\"asctime\": \"2023-01-28 13:58:37,530\", \"levelname\": \"INFO\", \"message\": \"Running FaceAnalyzer\"}\n",
            "{\"asctime\": \"2023-01-28 13:58:37,536\", \"levelname\": \"INFO\", \"message\": \"Reading image\", \"path_image\": \"./test.jpg\"}\n",
            "{\"asctime\": \"2023-01-28 13:58:37,552\", \"levelname\": \"INFO\", \"message\": \"Detecting faces\"}\n",
            "{\"asctime\": \"2023-01-28 13:58:44,952\", \"levelname\": \"INFO\", \"message\": \"Number of faces: 4\"}\n",
            "{\"asctime\": \"2023-01-28 13:58:44,953\", \"levelname\": \"INFO\", \"message\": \"Unifying faces\"}\n",
            "{\"asctime\": \"2023-01-28 13:58:44,959\", \"levelname\": \"INFO\", \"message\": \"Predicting facial features\"}\n",
            "{\"asctime\": \"2023-01-28 13:58:44,960\", \"levelname\": \"INFO\", \"message\": \"Running FacePredictor: embed\"}\n",
            "{\"asctime\": \"2023-01-28 13:58:51,305\", \"levelname\": \"INFO\", \"message\": \"Running FacePredictor: verify\"}\n",
            "{\"asctime\": \"2023-01-28 13:58:58,707\", \"levelname\": \"INFO\", \"message\": \"Running FacePredictor: fer\"}\n",
            "{\"asctime\": \"2023-01-28 13:59:12,363\", \"levelname\": \"INFO\", \"message\": \"Running FacePredictor: deepfake\"}\n",
            "{\"asctime\": \"2023-01-28 13:59:24,747\", \"levelname\": \"INFO\", \"message\": \"Running FacePredictor: align\"}\n",
            "/usr/local/lib/python3.8/dist-packages/torch/nn/modules/module.py:1194: UserWarning: FALLBACK path has been taken inside: runCudaFusionGroup. This is an indication that codegen Failed for some reason.\n",
            "To debug try disable codegen fallback path via setting the env variable `export PYTORCH_NVFUSER_DISABLE=fallback`\n",
            " (Triggered internally at ../torch/csrc/jit/codegen/cuda/manager.cpp:331.)\n",
            "  return forward_call(*input, **kwargs)\n",
            "{\"asctime\": \"2023-01-28 13:59:26,606\", \"levelname\": \"INFO\", \"message\": \"Utilizing facial features\"}\n",
            "{\"asctime\": \"2023-01-28 13:59:26,608\", \"levelname\": \"INFO\", \"message\": \"Running BaseUtilizer: align\"}\n",
            "{\"asctime\": \"2023-01-28 13:59:26,622\", \"levelname\": \"INFO\", \"message\": \"Running BaseUtilizer: draw_boxes\"}\n",
            "{\"asctime\": \"2023-01-28 13:59:26,650\", \"levelname\": \"INFO\", \"message\": \"Running BaseUtilizer: draw_landmarks\"}\n"
          ]
        },
        {
          "output_type": "stream",
          "name": "stdout",
          "text": [
            "time: 49.1 s (started: 2023-01-28 13:58:37 +00:00)\n"
          ]
        }
      ]
    },
    {
      "cell_type": "markdown",
      "source": [
        "## Facial Expressions"
      ],
      "metadata": {
        "id": "0COQib8gfaeU"
      }
    },
    {
      "cell_type": "code",
      "source": [
        "{face.indx: face.preds[\"fer\"].label for face in response.faces}\n"
      ],
      "metadata": {
        "colab": {
          "base_uri": "https://localhost:8080/"
        },
        "id": "Vv-yJqKDfchv",
        "outputId": "ef506ee1-8e06-410c-da81-c89d6659f20d"
      },
      "execution_count": 18,
      "outputs": [
        {
          "output_type": "execute_result",
          "data": {
            "text/plain": [
              "{0: 'Happiness', 1: 'Surprise', 2: 'Happiness', 3: 'Disgust'}"
            ]
          },
          "metadata": {},
          "execution_count": 18
        },
        {
          "output_type": "stream",
          "name": "stdout",
          "text": [
            "time: 7.51 ms (started: 2023-01-28 13:59:26 +00:00)\n"
          ]
        }
      ]
    },
    {
      "cell_type": "markdown",
      "source": [
        "## Embedding cosine similarity"
      ],
      "metadata": {
        "id": "5spi_HKkgSNA"
      }
    },
    {
      "cell_type": "code",
      "source": [
        "def compute_embed_similarity(predictor_name: str = \"verify\", base_face_id: int = 0) -> Dict:\n",
        "  base_emb = response.faces[base_face_id].preds[predictor_name].logits\n",
        "  sim_dict = {face.indx: cosine_similarity(base_emb, face.preds[predictor_name].logits, dim=0).item() for face in response.faces}\n",
        "  sim_dict_sorted = dict(sorted(sim_dict.items(), key=operator.itemgetter(1),reverse=True))\n",
        "  return sim_dict_sorted"
      ],
      "metadata": {
        "colab": {
          "base_uri": "https://localhost:8080/"
        },
        "id": "oaFz5qErg3_i",
        "outputId": "a6a840ac-23d4-41b3-85d0-109952c7af65"
      },
      "execution_count": 19,
      "outputs": [
        {
          "output_type": "stream",
          "name": "stdout",
          "text": [
            "time: 1.01 ms (started: 2023-01-28 13:59:26 +00:00)\n"
          ]
        }
      ]
    },
    {
      "cell_type": "markdown",
      "source": [
        "### Face representation learning"
      ],
      "metadata": {
        "id": "ly0jV5_5gcgg"
      }
    },
    {
      "cell_type": "code",
      "source": [
        "compute_embed_similarity(predictor_name=\"embed\")"
      ],
      "metadata": {
        "colab": {
          "base_uri": "https://localhost:8080/"
        },
        "id": "n00dHVnIgSiT",
        "outputId": "1f18c114-1f6a-4219-b7d1-5601cb4cc0e5"
      },
      "execution_count": 20,
      "outputs": [
        {
          "output_type": "execute_result",
          "data": {
            "text/plain": [
              "{0: 1.0,\n",
              " 3: 0.012771518900990486,\n",
              " 2: -0.012598775327205658,\n",
              " 1: -0.012680798768997192}"
            ]
          },
          "metadata": {},
          "execution_count": 20
        },
        {
          "output_type": "stream",
          "name": "stdout",
          "text": [
            "time: 10.1 ms (started: 2023-01-28 13:59:26 +00:00)\n"
          ]
        }
      ]
    },
    {
      "cell_type": "markdown",
      "source": [
        "### Face verification"
      ],
      "metadata": {
        "id": "t3nw7tYGgG2E"
      }
    },
    {
      "cell_type": "code",
      "source": [
        "compute_embed_similarity(predictor_name=\"verify\")"
      ],
      "metadata": {
        "colab": {
          "base_uri": "https://localhost:8080/"
        },
        "id": "MsNMR1FAf28F",
        "outputId": "9dd4c402-e7df-40a8-eb25-0a960156a767"
      },
      "execution_count": 21,
      "outputs": [
        {
          "output_type": "execute_result",
          "data": {
            "text/plain": [
              "{0: 1.0000001192092896,\n",
              " 1: 0.11373738944530487,\n",
              " 3: 0.07457146048545837,\n",
              " 2: -0.06798631697893143}"
            ]
          },
          "metadata": {},
          "execution_count": 21
        },
        {
          "output_type": "stream",
          "name": "stdout",
          "text": [
            "time: 4.85 ms (started: 2023-01-28 13:59:26 +00:00)\n"
          ]
        }
      ]
    },
    {
      "cell_type": "markdown",
      "source": [
        "## Full response"
      ],
      "metadata": {
        "id": "6FLLN8WDeEOS"
      }
    },
    {
      "cell_type": "code",
      "source": [
        "response"
      ],
      "metadata": {
        "colab": {
          "base_uri": "https://localhost:8080/"
        },
        "id": "dVRQIUL3aXhQ",
        "outputId": "e0514d03-e5ed-4809-be7e-721228b44da6"
      },
      "execution_count": 22,
      "outputs": [
        {
          "output_type": "execute_result",
          "data": {
            "text/plain": [
              "Response(faces=[Face(indx=0, loc=Location(x1=523, x2=644, y1=330, y2=452), dims=Dimensions(height=122, width=121), tensor=tensor([[[0.8784, 0.8784, 0.8784,  ..., 0.6774, 0.6588, 0.6588],\n",
              "         [0.8784, 0.8784, 0.8784,  ..., 0.6774, 0.6588, 0.6588],\n",
              "         [0.8784, 0.8784, 0.8784,  ..., 0.6680, 0.6470, 0.6470],\n",
              "         ...,\n",
              "         [0.6625, 0.6625, 0.6566,  ..., 0.2169, 0.2196, 0.2196],\n",
              "         [0.6863, 0.6863, 0.6747,  ..., 0.2173, 0.2196, 0.2196],\n",
              "         [0.6863, 0.6863, 0.6747,  ..., 0.2173, 0.2196, 0.2196]],\n",
              "\n",
              "        [[0.6471, 0.6471, 0.6471,  ..., 0.4592, 0.4314, 0.4314],\n",
              "         [0.6471, 0.6471, 0.6471,  ..., 0.4592, 0.4314, 0.4314],\n",
              "         [0.6471, 0.6471, 0.6471,  ..., 0.4610, 0.4314, 0.4314],\n",
              "         ...,\n",
              "         [0.5841, 0.5841, 0.5781,  ..., 0.0679, 0.0706, 0.0706],\n",
              "         [0.6078, 0.6078, 0.5962,  ..., 0.0683, 0.0706, 0.0706],\n",
              "         [0.6078, 0.6078, 0.5962,  ..., 0.0683, 0.0706, 0.0706]],\n",
              "\n",
              "        [[0.5765, 0.5765, 0.5765,  ..., 0.3993, 0.3725, 0.3725],\n",
              "         [0.5765, 0.5765, 0.5765,  ..., 0.3993, 0.3725, 0.3725],\n",
              "         [0.5765, 0.5765, 0.5765,  ..., 0.4029, 0.3737, 0.3737],\n",
              "         ...,\n",
              "         [0.5712, 0.5712, 0.5655,  ..., 0.0091, 0.0118, 0.0118],\n",
              "         [0.5961, 0.5961, 0.5845,  ..., 0.0094, 0.0118, 0.0118],\n",
              "         [0.5961, 0.5961, 0.5845,  ..., 0.0094, 0.0118, 0.0118]]],\n",
              "       device='cuda:0'), ratio=0.012656035665294925, preds={'embed': Prediction(label='abstract', logits=tensor([-0.0515,  0.0500, -0.0242, -0.0801,  0.1285, -0.0556, -0.0801,  0.0559,\n",
              "         0.0059, -0.0365,  0.0459,  0.0571, -0.0630,  0.1446, -0.0510,  0.0598,\n",
              "         0.0874,  0.0009, -0.1773,  0.0533,  0.1055, -0.1133,  0.0359,  0.0303,\n",
              "        -0.0242, -0.0145, -0.1168, -0.1917,  0.1212, -0.1120,  0.1400, -0.0131,\n",
              "         0.1442, -0.0422, -0.0353,  0.1257, -0.0616,  0.0241, -0.0828, -0.0816,\n",
              "        -0.1426,  0.0295,  0.0271, -0.1132,  0.0066,  0.1014,  0.0486, -0.1886,\n",
              "        -0.0015,  0.0761, -0.0456, -0.0636, -0.0277,  0.0510,  0.1784, -0.0092,\n",
              "        -0.1161, -0.0800,  0.0840,  0.0363, -0.0222,  0.0012, -0.0310,  0.0071,\n",
              "        -0.0119, -0.0241, -0.1948,  0.0533, -0.1091,  0.0324, -0.0825,  0.1032,\n",
              "         0.0847,  0.2733, -0.0147, -0.0426,  0.1996, -0.0166, -0.0599, -0.0007,\n",
              "        -0.1329,  0.1101, -0.0704, -0.0844,  0.1030,  0.1271, -0.0854, -0.0457,\n",
              "         0.0426,  0.0074,  0.0865,  0.0722,  0.0810,  0.0997,  0.0399,  0.0657,\n",
              "        -0.0567,  0.1731,  0.0319, -0.0898,  0.0361,  0.0736,  0.0542, -0.0310,\n",
              "         0.0041, -0.0045, -0.1373, -0.0824,  0.1341, -0.0072,  0.0070, -0.1019,\n",
              "         0.1061, -0.0639, -0.0693, -0.0064, -0.0633, -0.0906,  0.0725,  0.0554,\n",
              "         0.0341,  0.0720,  0.0196,  0.0667,  0.0182, -0.0425,  0.1898, -0.1599],\n",
              "       device='cuda:0'), other={}), 'verify': Prediction(label='abstract', logits=tensor([-0.1017,  0.0162,  0.0576,  0.1119, -0.0587, -0.0134,  0.0021, -0.0093,\n",
              "         0.0517,  0.0430, -0.0293,  0.0453,  0.0107, -0.0135,  0.0491,  0.0143,\n",
              "        -0.0167, -0.1079,  0.0625, -0.0104,  0.0427, -0.0203,  0.0636,  0.0893,\n",
              "        -0.0103, -0.0097,  0.0045,  0.0239,  0.0361, -0.0271, -0.0158,  0.0798,\n",
              "        -0.0070, -0.0640,  0.0456, -0.0464, -0.0259, -0.0047,  0.0411,  0.0210,\n",
              "         0.0327,  0.0042,  0.0664,  0.0630, -0.0457, -0.0217, -0.0115, -0.0592,\n",
              "         0.0013, -0.0284,  0.0025, -0.0230,  0.0132, -0.0247,  0.0026,  0.0943,\n",
              "         0.0017,  0.0021, -0.0445, -0.0157,  0.0380, -0.0012,  0.0679,  0.0326,\n",
              "        -0.0359,  0.0857,  0.0168,  0.0073, -0.0244, -0.0205,  0.0080, -0.0222,\n",
              "        -0.0216, -0.0709,  0.0230,  0.0592,  0.0058,  0.0193, -0.0197, -0.0395,\n",
              "        -0.0445,  0.0612,  0.0290, -0.0805,  0.0240,  0.0216, -0.0262, -0.0157,\n",
              "         0.0247, -0.0234,  0.0651,  0.0287,  0.0260,  0.0219, -0.0647,  0.0132,\n",
              "        -0.0786,  0.0172, -0.0338, -0.0467, -0.1367, -0.0172, -0.0605, -0.0710,\n",
              "        -0.0065, -0.0896, -0.0282, -0.0724, -0.0882, -0.0599, -0.0186,  0.0038,\n",
              "         0.0107,  0.0501, -0.0119, -0.0044, -0.0235, -0.0105, -0.0479,  0.0330,\n",
              "         0.0294, -0.1011, -0.0056,  0.1008, -0.0467,  0.0317, -0.0571,  0.0057,\n",
              "        -0.0249, -0.0109,  0.0154, -0.0221, -0.0452, -0.0046, -0.0567, -0.0119,\n",
              "         0.0214,  0.0177, -0.0588,  0.0146, -0.0767, -0.0515,  0.0941, -0.0505,\n",
              "        -0.0492, -0.0425,  0.0551,  0.0450, -0.0354, -0.0274,  0.0096, -0.0350,\n",
              "        -0.0488,  0.0292,  0.0373, -0.0562, -0.0020,  0.0050, -0.0265, -0.0067,\n",
              "         0.0004, -0.0052,  0.0290,  0.0105,  0.0328, -0.0006, -0.0544,  0.0897,\n",
              "         0.0192,  0.0095,  0.0358,  0.0123,  0.0245, -0.0059, -0.0119,  0.1067,\n",
              "        -0.0028,  0.0566, -0.0120,  0.0212, -0.0009,  0.0915, -0.0726,  0.0251,\n",
              "        -0.0308,  0.0928,  0.0388,  0.0455,  0.0317,  0.1042,  0.0132, -0.0835,\n",
              "         0.0466, -0.0037,  0.0247, -0.0815,  0.0188,  0.0162,  0.0400, -0.0319,\n",
              "        -0.0073, -0.0155,  0.0428,  0.0622, -0.0404,  0.0297, -0.0696, -0.0496,\n",
              "         0.0231, -0.0222, -0.0747,  0.0020, -0.0384,  0.0200,  0.0161, -0.0010,\n",
              "        -0.1194,  0.0446, -0.0041, -0.0042, -0.0534,  0.0136,  0.0069, -0.0578,\n",
              "         0.0154,  0.0006, -0.0575,  0.0728, -0.0370, -0.0286,  0.0825,  0.0090,\n",
              "        -0.0458, -0.0787,  0.0421, -0.0735,  0.0325, -0.0286, -0.0044, -0.0282,\n",
              "         0.0070, -0.0283,  0.0100, -0.0256, -0.0517,  0.0107, -0.0006,  0.0667,\n",
              "        -0.0255,  0.0497,  0.0234,  0.0005, -0.0120, -0.0106,  0.0263, -0.0004,\n",
              "         0.0092, -0.0760, -0.0082, -0.0367, -0.0327, -0.0530, -0.0773, -0.0227,\n",
              "        -0.0147,  0.0521,  0.0080,  0.0386,  0.0041, -0.0884,  0.0210, -0.0291,\n",
              "        -0.0245,  0.0079,  0.0308,  0.0820,  0.0734, -0.0461, -0.0901,  0.0335,\n",
              "         0.0318,  0.0730, -0.0286,  0.0105,  0.0046, -0.0107,  0.0391,  0.0653,\n",
              "        -0.0087, -0.0487,  0.0170, -0.0055, -0.0411, -0.0864, -0.0697,  0.0062,\n",
              "        -0.0023,  0.0267, -0.0036,  0.0398, -0.0130, -0.0231,  0.0010,  0.0203,\n",
              "         0.0358, -0.0330,  0.0221, -0.0462,  0.0164,  0.0811,  0.0793,  0.0328,\n",
              "         0.0368, -0.0354, -0.0215, -0.0238, -0.0972, -0.0284, -0.0105, -0.0396,\n",
              "        -0.0197,  0.0464,  0.0254, -0.0538,  0.1218, -0.0749, -0.0225, -0.0245,\n",
              "        -0.0118,  0.0026,  0.0617, -0.0156,  0.0301,  0.0175,  0.0081,  0.0023,\n",
              "        -0.0508, -0.1173,  0.0457, -0.0963, -0.0415,  0.0570,  0.0542,  0.0253,\n",
              "         0.0389, -0.0214,  0.0295, -0.0351,  0.0465, -0.0588, -0.0167, -0.0140,\n",
              "        -0.0293,  0.0497,  0.0588,  0.0272,  0.0539,  0.0018, -0.0369,  0.0017,\n",
              "        -0.0054, -0.0310, -0.0627,  0.0239, -0.0050, -0.0299,  0.0031, -0.0171,\n",
              "         0.0096,  0.0209,  0.0254, -0.0240,  0.0389, -0.0448,  0.0420, -0.0833,\n",
              "         0.0204, -0.0272, -0.0522,  0.0557, -0.0631,  0.0121, -0.0084,  0.0062,\n",
              "         0.0711,  0.0442, -0.0809,  0.0004,  0.0546,  0.0606, -0.0005, -0.0083,\n",
              "        -0.0376, -0.0596, -0.0522, -0.0052,  0.0025,  0.0465, -0.0342, -0.0312,\n",
              "         0.0137,  0.0610, -0.0416,  0.0161, -0.0690,  0.0084, -0.0124,  0.0281,\n",
              "         0.0114,  0.0138,  0.0174,  0.0550,  0.0260,  0.0381,  0.0240,  0.0258,\n",
              "         0.0540,  0.0189, -0.0693, -0.0032,  0.0107,  0.0543, -0.0005, -0.0264,\n",
              "        -0.0100,  0.0354, -0.0923, -0.0022,  0.0185,  0.0438, -0.0207, -0.0760,\n",
              "         0.0071,  0.0259,  0.0115,  0.0300,  0.0488,  0.0398,  0.0224,  0.0153,\n",
              "         0.0010,  0.0445, -0.0059,  0.0118,  0.0371,  0.0111,  0.0224, -0.0574,\n",
              "         0.0149, -0.0122, -0.0467,  0.0676, -0.0737,  0.0540, -0.0424, -0.0534,\n",
              "        -0.0261,  0.0317,  0.0203, -0.0161, -0.0524, -0.0067,  0.0403, -0.0717,\n",
              "         0.0692, -0.0301,  0.0143,  0.0899,  0.0374, -0.0817,  0.0535, -0.0356,\n",
              "         0.0385, -0.0135, -0.0142, -0.1323, -0.0496, -0.0027,  0.0632, -0.0052,\n",
              "         0.0184, -0.0525,  0.0618, -0.0090,  0.0503,  0.0425,  0.0573, -0.0619,\n",
              "         0.0759, -0.0315, -0.0128, -0.0524, -0.0396,  0.0612, -0.0178,  0.0656,\n",
              "        -0.0204,  0.0151,  0.0244,  0.0101, -0.0293,  0.0216,  0.0348,  0.0084,\n",
              "        -0.0119, -0.0084,  0.0358,  0.0069,  0.0957, -0.0404, -0.0202,  0.0672],\n",
              "       device='cuda:0'), other={}), 'fer': Prediction(label='Happiness', logits=tensor([-0.7749,  1.0220,  0.9339,  0.1031,  1.4005, -2.2687, -0.7897, -0.6183],\n",
              "       device='cuda:0'), other={}), 'deepfake': Prediction(label='Real', logits=tensor(0.0442, device='cuda:0'), other={}), 'align': Prediction(label='abstract', logits=tensor([ 1.3518, -0.2243, -0.5703,  0.4045,  0.2482,  0.5829, -0.5632,  0.3556,\n",
              "         0.3796,  0.5973,  1.2026, -0.5630,  0.4094, -0.0400,  0.3050,  0.0041,\n",
              "         0.0148,  0.1889, -0.2999,  0.0924, -0.3127, -0.0578,  0.0067,  0.0956,\n",
              "        -0.0286, -0.0811, -0.1435,  0.0619,  0.0434, -0.0247, -0.0187,  0.0094,\n",
              "         0.0123, -0.0017,  0.0806, -0.0873,  0.0763, -0.0683, -0.0041,  0.0629,\n",
              "         0.0027,  0.0395, -0.0112,  0.0412, -0.0213,  0.0899, -0.0482,  0.0181,\n",
              "        -0.0339,  0.0874, -0.0136, -0.0256, -1.1723, -0.1930, -0.0821,  0.5283,\n",
              "         0.1068, -0.0646, -0.2486, -0.4704, -0.0524, -0.2039], device='cuda:0'), other={'lmk3d': tensor([[546.0987, 548.0717, 551.3409, 554.0925, 556.8847, 560.4662, 564.1138,\n",
              "         570.3250, 582.2847, 595.8649, 606.5688, 615.5691, 622.6559, 625.8192,\n",
              "         627.3134, 628.5746, 628.7786, 541.7205, 543.6990, 547.9057, 552.6968,\n",
              "         557.5702, 579.4447, 584.9618, 591.6182, 599.4170, 606.8253, 569.4647,\n",
              "         568.6007, 567.7196, 568.0293, 565.6227, 567.8611, 571.6873, 576.1121,\n",
              "         579.8336, 549.0169, 550.7632, 555.9536, 561.5730, 556.8724, 551.9111,\n",
              "         583.6852, 587.7702, 593.2010, 598.8608, 593.9860, 587.9717, 561.6429,\n",
              "         563.6926, 568.8668, 572.4479, 576.2247, 584.9063, 593.2056, 586.9377,\n",
              "         581.5443, 575.8837, 570.5986, 566.4687, 562.9123, 569.0801, 573.3476,\n",
              "         578.6346, 592.2203, 580.2859, 575.2529, 570.7370],\n",
              "        [375.1258, 386.1855, 396.0961, 405.3874, 416.3388, 426.0985, 433.6464,\n",
              "         440.8192, 443.4465, 437.6470, 428.7634, 419.7066, 408.7670, 397.0840,\n",
              "         387.1822, 376.7862, 365.4913, 370.7330, 367.9804, 367.3098, 367.7156,\n",
              "         368.6953, 366.0976, 363.7411, 361.9113, 361.1971, 363.0103, 379.5247,\n",
              "         387.7530, 395.7326, 401.6893, 404.2656, 404.9954, 405.4406, 404.0596,\n",
              "         402.5995, 378.9558, 377.2994, 376.7801, 378.5378, 380.5674, 381.0332,\n",
              "         375.9445, 372.9846, 372.3681, 373.2220, 376.0651, 376.8835, 416.9837,\n",
              "         414.2794, 411.9367, 412.1725, 411.1276, 411.9387, 414.0439, 421.9850,\n",
              "         426.2382, 427.6999, 427.3778, 423.9867, 416.9557, 415.0894, 414.5927,\n",
              "         414.0581, 414.1944, 421.8811, 423.0947, 422.5400],\n",
              "        [-85.8753, -86.2964, -86.7334, -86.2374, -83.0132, -74.7319, -63.6669,\n",
              "         -53.4284, -47.1553, -47.3006, -53.3652, -61.1538, -66.8452, -68.5098,\n",
              "         -67.8351, -66.4090, -65.3803, -44.6260, -35.7088, -29.0033, -24.5988,\n",
              "         -22.1302, -16.7326, -16.6406, -18.2086, -21.8634, -28.4710, -19.7318,\n",
              "         -15.5806, -11.4719, -11.4390, -27.6770, -24.4357, -22.3095, -22.3729,\n",
              "         -24.1177, -40.1321, -33.7684, -32.2748, -33.0436, -33.1289, -35.9565,\n",
              "         -27.6981, -24.5680, -23.3403, -27.8046, -25.5172, -25.4698, -42.6207,\n",
              "         -31.8836, -25.0256, -23.7130, -23.1294, -26.4945, -34.9188, -32.2690,\n",
              "         -31.2475, -32.0164, -33.7505, -37.2526, -42.1483, -29.2533, -26.5530,\n",
              "         -26.7234, -34.9371, -30.7390, -31.3918, -33.4381]], device='cuda:0',\n",
              "       dtype=torch.float64), 'mesh': tensor([[542.0083, 542.0466, 542.0871,  ..., 629.8395, 629.8755, 629.9013],\n",
              "        [373.6787, 373.8287, 373.9783,  ..., 389.3352, 389.0655, 388.8009],\n",
              "        [-44.6920, -44.6984, -44.7053,  ..., -91.1299, -91.5200, -91.8980]],\n",
              "       device='cuda:0', dtype=torch.float64), 'pose': {'angles': [19.05345089361689, -15.865064348638827, -7.027888822862295], 'translation': tensor([592.2848, 405.8237, -86.9510], device='cuda:0', dtype=torch.float64)}})}), Face(indx=1, loc=Location(x1=391, x2=491, y1=436, y2=536), dims=Dimensions(height=100, width=100), tensor=tensor([[[ 0.1569,  0.1569,  0.1538,  ...,  0.7022,  0.7176,  0.7176],\n",
              "         [ 0.1569,  0.1569,  0.1538,  ...,  0.7022,  0.7176,  0.7176],\n",
              "         [ 0.1569,  0.1569,  0.1535,  ...,  0.6705,  0.6848,  0.6848],\n",
              "         ...,\n",
              "         [ 0.1125,  0.1125,  0.1113,  ...,  0.3089,  0.3092,  0.3092],\n",
              "         [ 0.1137,  0.1137,  0.1125,  ...,  0.3092,  0.3098,  0.3098],\n",
              "         [ 0.1137,  0.1137,  0.1125,  ...,  0.3092,  0.3098,  0.3098]],\n",
              "\n",
              "        [[ 0.0745,  0.0745,  0.0714,  ...,  0.4328,  0.4471,  0.4471],\n",
              "         [ 0.0745,  0.0745,  0.0714,  ...,  0.4328,  0.4471,  0.4471],\n",
              "         [ 0.0745,  0.0745,  0.0711,  ...,  0.4043,  0.4173,  0.4173],\n",
              "         ...,\n",
              "         [ 0.0301,  0.0301,  0.0290,  ...,  0.1480,  0.1484,  0.1484],\n",
              "         [ 0.0314,  0.0314,  0.0301,  ...,  0.1484,  0.1490,  0.1490],\n",
              "         [ 0.0314,  0.0314,  0.0301,  ...,  0.1484,  0.1490,  0.1490]],\n",
              "\n",
              "        [[ 0.0196,  0.0196,  0.0165,  ...,  0.3858,  0.4000,  0.4000],\n",
              "         [ 0.0196,  0.0196,  0.0165,  ...,  0.3858,  0.4000,  0.4000],\n",
              "         [ 0.0196,  0.0196,  0.0162,  ...,  0.3572,  0.3703,  0.3703],\n",
              "         ...,\n",
              "         [-0.0281, -0.0281, -0.0282,  ...,  0.0814,  0.0817,  0.0817],\n",
              "         [-0.0275, -0.0275, -0.0275,  ...,  0.0817,  0.0824,  0.0824],\n",
              "         [-0.0275, -0.0275, -0.0275,  ...,  0.0817,  0.0824,  0.0824]]],\n",
              "       device='cuda:0'), ratio=0.008573388203017833, preds={'embed': Prediction(label='abstract', logits=tensor([ 0.0929, -0.0452,  0.0690, -0.1046,  0.1584, -0.2002,  0.0327, -0.0209,\n",
              "         0.1017,  0.1655,  0.0688,  0.0591,  0.0556,  0.0373, -0.1576, -0.0213,\n",
              "         0.0085, -0.0622,  0.0917, -0.0298, -0.0303, -0.0690, -0.0265, -0.0711,\n",
              "         0.0288,  0.0032,  0.1834, -0.0192,  0.0824,  0.1270, -0.0338,  0.0543,\n",
              "         0.0447, -0.0011, -0.0457, -0.1205, -0.0573, -0.0396, -0.1559,  0.0372,\n",
              "         0.0406, -0.0661,  0.1646, -0.0226,  0.0448,  0.0689,  0.0142,  0.0235,\n",
              "        -0.0006, -0.0714,  0.1101,  0.0432, -0.0771, -0.1032, -0.0737,  0.1598,\n",
              "         0.1206,  0.1752, -0.0427,  0.1351, -0.0735, -0.0632,  0.1411, -0.1068,\n",
              "        -0.0309,  0.0151, -0.1369, -0.0421,  0.2004, -0.0300,  0.1003, -0.1462,\n",
              "        -0.0490,  0.0330, -0.0370,  0.0090,  0.1397, -0.1310,  0.1024, -0.1200,\n",
              "         0.0248,  0.1059, -0.0449, -0.2085, -0.0987, -0.0022,  0.0347,  0.0508,\n",
              "        -0.0417,  0.0534,  0.0782,  0.2165,  0.0410, -0.0134,  0.0088,  0.0362,\n",
              "        -0.1021,  0.0054, -0.0258,  0.1170,  0.0126,  0.0608, -0.0597, -0.0443,\n",
              "        -0.0388, -0.0615, -0.0098,  0.0566,  0.0315, -0.0838, -0.0745, -0.0254,\n",
              "         0.0846,  0.1265,  0.1528, -0.2019, -0.0865,  0.0339, -0.0247,  0.1234,\n",
              "         0.0314,  0.0114,  0.0466,  0.0980,  0.0400, -0.0549, -0.0516,  0.0196],\n",
              "       device='cuda:0'), other={}), 'verify': Prediction(label='abstract', logits=tensor([ 0.0342,  0.0174,  0.0727,  0.0209,  0.0037, -0.0591,  0.0160, -0.0390,\n",
              "        -0.0454, -0.0086, -0.0564,  0.0336,  0.0617,  0.0400, -0.0149, -0.0071,\n",
              "        -0.0171,  0.0246, -0.1127,  0.0229, -0.0097,  0.0323, -0.0645, -0.0055,\n",
              "        -0.0179, -0.0638,  0.0860, -0.0334, -0.0094,  0.0892,  0.0460, -0.0082,\n",
              "         0.0036, -0.0178,  0.0111,  0.0260,  0.0268, -0.0125,  0.0099,  0.0557,\n",
              "        -0.0009,  0.0215,  0.0637,  0.0727,  0.0321, -0.0769,  0.0227, -0.0390,\n",
              "        -0.0628,  0.0795, -0.0122, -0.0665,  0.0630, -0.0444,  0.0769, -0.0141,\n",
              "        -0.0204,  0.0362,  0.0029, -0.0099,  0.0622, -0.0209,  0.0112,  0.0165,\n",
              "        -0.0382, -0.0590,  0.0875, -0.0746, -0.0010,  0.0108, -0.0168, -0.0128,\n",
              "         0.0111, -0.0411, -0.0187, -0.0048,  0.0595,  0.0194, -0.0077, -0.0226,\n",
              "         0.0074, -0.0036,  0.0191,  0.0370, -0.0482, -0.0281,  0.0064,  0.0199,\n",
              "        -0.0243,  0.0464,  0.0446,  0.0404, -0.0020,  0.0110, -0.0248,  0.0144,\n",
              "        -0.0288,  0.0643,  0.0767, -0.0816, -0.0149, -0.0542, -0.0320, -0.0016,\n",
              "        -0.0193, -0.0787, -0.0231, -0.0032,  0.0447, -0.0015,  0.0479,  0.0208,\n",
              "         0.1086,  0.0636, -0.0703,  0.0125,  0.0023, -0.0397, -0.0017,  0.0296,\n",
              "         0.0139,  0.0192, -0.0197, -0.0332, -0.0524,  0.0022,  0.0435, -0.0130,\n",
              "         0.0087,  0.0994,  0.0019, -0.0464,  0.0186, -0.0446, -0.0744, -0.0628,\n",
              "         0.0412, -0.0047,  0.0097,  0.0289, -0.0295,  0.0005,  0.0682,  0.0392,\n",
              "         0.0219,  0.0729, -0.0262,  0.0717,  0.0182, -0.0677,  0.0225, -0.0086,\n",
              "         0.0792,  0.0067, -0.0108,  0.0276, -0.0019,  0.0094, -0.0058,  0.0266,\n",
              "        -0.0196, -0.0384,  0.0403,  0.0189,  0.0601,  0.0204,  0.0194, -0.0183,\n",
              "        -0.0347,  0.0613, -0.0631, -0.0251,  0.0339, -0.0064, -0.0721, -0.0039,\n",
              "         0.0088,  0.0372, -0.0149,  0.0293,  0.0276, -0.0696, -0.0046,  0.1089,\n",
              "         0.0607,  0.0252,  0.0064,  0.0113, -0.0801,  0.0599,  0.0525,  0.0102,\n",
              "        -0.0012,  0.1023,  0.0383, -0.0142,  0.0482, -0.0337, -0.0052,  0.0581,\n",
              "        -0.0090, -0.0244,  0.0553,  0.0466, -0.0035,  0.0069,  0.0310, -0.0569,\n",
              "         0.0237, -0.0058, -0.0106, -0.0884, -0.0468,  0.0510, -0.0455, -0.1325,\n",
              "        -0.0161,  0.0152, -0.0565, -0.0270,  0.0752,  0.0741,  0.0562,  0.0553,\n",
              "         0.0584,  0.0230, -0.0237,  0.0185,  0.0525, -0.0410,  0.0272,  0.0131,\n",
              "         0.0418, -0.1046,  0.0166, -0.0287,  0.0410, -0.0253,  0.0435, -0.0132,\n",
              "         0.0295,  0.0032,  0.0269,  0.1082, -0.0514,  0.0563,  0.0272,  0.0476,\n",
              "        -0.0440,  0.0042, -0.0595,  0.0664,  0.0526, -0.0155, -0.0015,  0.0692,\n",
              "         0.0243,  0.0314,  0.0177,  0.0032, -0.0155,  0.0183, -0.0027, -0.0269,\n",
              "        -0.0588, -0.0781, -0.0200,  0.0197, -0.0449,  0.0178, -0.0311,  0.0021,\n",
              "         0.0417,  0.0676,  0.0008,  0.0675,  0.0311, -0.0438,  0.0438, -0.0034,\n",
              "         0.0218,  0.0380, -0.0815,  0.0668, -0.0233,  0.0338, -0.0320,  0.0280,\n",
              "         0.0449, -0.0257, -0.0011,  0.0601, -0.0102,  0.0317, -0.0077, -0.0116,\n",
              "         0.0535,  0.0057, -0.0523, -0.0223,  0.0026, -0.0634, -0.0805,  0.0130,\n",
              "         0.0412,  0.0142, -0.0587, -0.0583, -0.0432,  0.0150,  0.0313,  0.0412,\n",
              "        -0.0548, -0.0457, -0.0297,  0.0519, -0.0123,  0.0161, -0.0080,  0.0187,\n",
              "         0.0158, -0.0317,  0.0871, -0.0275,  0.0783,  0.0298, -0.0314, -0.0272,\n",
              "        -0.0418, -0.0156, -0.0454,  0.0128, -0.0382,  0.0065, -0.0038,  0.0058,\n",
              "         0.0302, -0.0008,  0.1277,  0.0515,  0.0092,  0.0011,  0.0271, -0.0781,\n",
              "         0.0306, -0.0130, -0.0147, -0.0365,  0.0516, -0.0536,  0.0052, -0.0048,\n",
              "         0.0203, -0.0142, -0.0495,  0.0340, -0.0242, -0.0119, -0.0313, -0.0077,\n",
              "         0.0519, -0.0526, -0.1138,  0.0765,  0.0006, -0.0301,  0.0069, -0.0666,\n",
              "         0.0223,  0.0429, -0.0826,  0.0465, -0.0340, -0.0157,  0.0189, -0.0578,\n",
              "        -0.0096,  0.0134,  0.0150, -0.0243, -0.0862, -0.0030, -0.0675,  0.0327,\n",
              "         0.0041, -0.0478, -0.1101,  0.0157,  0.0485,  0.0173,  0.0188,  0.0277,\n",
              "         0.0755,  0.0602,  0.0797, -0.0218,  0.0515, -0.0786, -0.0048,  0.0403,\n",
              "        -0.0033,  0.0883,  0.0265, -0.0278,  0.0023, -0.0363, -0.0378, -0.0277,\n",
              "         0.0191,  0.0234, -0.0288,  0.0715, -0.0099, -0.0158, -0.0189,  0.0727,\n",
              "         0.0766, -0.0376,  0.0503,  0.0109, -0.0389, -0.0313,  0.0361, -0.0603,\n",
              "         0.0311, -0.0078, -0.0175, -0.0238, -0.0161,  0.0385,  0.0066, -0.0375,\n",
              "         0.0395, -0.0331,  0.0167, -0.0661,  0.0343,  0.0230, -0.0657, -0.0287,\n",
              "        -0.0441,  0.0574, -0.0119,  0.0335, -0.0935, -0.0858, -0.0169,  0.0112,\n",
              "        -0.0372, -0.0054,  0.0473,  0.0311,  0.0903,  0.0193,  0.0373,  0.0538,\n",
              "         0.0528, -0.0212,  0.0693,  0.0415, -0.0230,  0.0591,  0.0830, -0.0290,\n",
              "        -0.0062,  0.0562, -0.0546, -0.0458, -0.0224,  0.0054,  0.0866,  0.0321,\n",
              "         0.0970,  0.0516, -0.1290,  0.0228,  0.0232, -0.0171,  0.0828, -0.0368,\n",
              "         0.0098, -0.0349,  0.0759, -0.0132, -0.0383, -0.0411,  0.0115, -0.0231,\n",
              "        -0.0070,  0.0109, -0.0396, -0.0153, -0.0847,  0.0214, -0.0475,  0.0077,\n",
              "         0.0022,  0.0481, -0.0180,  0.0505,  0.0049, -0.0424,  0.0220,  0.0966,\n",
              "         0.0360, -0.0177, -0.0111, -0.0537,  0.0810,  0.0004, -0.0044,  0.0558],\n",
              "       device='cuda:0'), other={}), 'fer': Prediction(label='Surprise', logits=tensor([ 0.0499, -0.2532,  0.5773, -0.5286, -2.1618,  0.7851, -0.7462,  1.2695],\n",
              "       device='cuda:0'), other={}), 'deepfake': Prediction(label='Real', logits=tensor(0.0108, device='cuda:0'), other={}), 'align': Prediction(label='abstract', logits=tensor([ 1.5435, -0.3386, -0.0309,  0.0689,  0.3635,  0.6951,  0.1972, -0.8381,\n",
              "         0.0053, -0.3969,  1.3063, -0.6549,  0.4604,  0.2220,  0.4912, -0.0263,\n",
              "         0.2536,  0.2218, -0.3242,  0.1977,  0.1392,  0.1412,  0.0761,  0.0146,\n",
              "         0.0332, -0.0315, -0.2690,  0.0981,  0.0387,  0.0841, -0.0735,  0.0800,\n",
              "         0.0912,  0.0854, -0.0365, -0.0173, -0.0724,  0.0096, -0.0033, -0.0575,\n",
              "        -0.0041, -0.0358, -0.0154, -0.0261,  0.0023, -0.0622,  0.0895,  0.0078,\n",
              "        -0.0249, -0.0248, -0.0264,  0.0317,  0.5243, -1.4404,  0.2008, -0.3875,\n",
              "        -0.0246,  0.0661, -0.2110,  0.5021,  0.0412,  0.1910], device='cuda:0'), other={'lmk3d': tensor([[404.4270, 407.0900, 410.6958, 414.0436, 418.1391, 423.9738, 430.1448,\n",
              "         437.9965, 449.3235, 459.9526, 466.7672, 471.8910, 475.6533, 476.9153,\n",
              "         477.4575, 477.7922, 477.0906, 409.5115, 412.9113, 417.8929, 422.9351,\n",
              "         427.6771, 446.8772, 451.2816, 456.3170, 461.9597, 466.8813, 439.2210,\n",
              "         440.2402, 441.2156, 442.0670, 437.0436, 439.5479, 443.0574, 446.3809,\n",
              "         448.7794, 417.4873, 420.2232, 424.8401, 429.5108, 425.8009, 421.0787,\n",
              "         449.0021, 452.8507, 457.5927, 461.3551, 458.0427, 453.1462, 433.1530,\n",
              "         436.7677, 441.2500, 444.0612, 446.7541, 452.1354, 456.6738, 453.0513,\n",
              "         449.7380, 445.7834, 441.7857, 437.9968, 434.4565, 441.1967, 444.4877,\n",
              "         447.9465, 455.6919, 448.2958, 444.9082, 441.5263],\n",
              "        [486.6439, 495.7263, 503.8971, 511.2043, 518.9293, 524.6741, 527.8988,\n",
              "         530.5344, 531.0990, 526.9664, 522.1911, 517.1848, 509.9544, 501.3160,\n",
              "         493.3341, 484.6162, 475.2253, 474.2206, 470.0488, 468.1159, 467.5806,\n",
              "         467.9201, 464.8344, 462.9445, 461.8318, 462.0934, 465.1172, 476.3283,\n",
              "         482.0873, 487.7706, 492.6725, 498.4163, 498.3348, 498.3235, 497.3300,\n",
              "         496.6195, 480.0617, 477.4862, 476.7896, 478.3253, 479.9453, 480.8889,\n",
              "         475.2736, 472.3601, 471.6479, 473.2496, 475.0286, 475.6193, 511.3840,\n",
              "         507.5666, 504.4961, 504.4916, 503.6895, 505.2979, 508.0223, 511.3057,\n",
              "         513.7517, 514.7318, 514.8774, 513.4859, 511.0274, 508.1506, 507.3495,\n",
              "         507.1773, 507.9765, 509.8419, 510.6087, 510.7542],\n",
              "        [-65.2762, -64.0878, -63.3147, -61.6332, -57.3080, -49.5766, -39.9294,\n",
              "         -31.4665, -28.1968, -31.3403, -39.5993, -49.0723, -56.8978, -61.1833,\n",
              "         -62.8497, -63.6707, -64.7734, -34.2396, -28.3582, -24.1183, -21.5106,\n",
              "         -20.2571, -20.1496, -21.3790, -23.9383, -28.0633, -33.8716, -18.7185,\n",
              "         -14.1689,  -9.6166,  -8.6805, -19.0738, -16.9240, -15.8697, -16.7869,\n",
              "         -18.8530, -30.6703, -26.4901, -26.3087, -27.4530, -26.4413, -27.6770,\n",
              "         -27.4174, -26.2622, -26.3071, -30.3859, -27.4414, -26.3083, -23.6963,\n",
              "         -17.7967, -14.8828, -14.4562, -14.7573, -17.4268, -23.1452, -18.9659,\n",
              "         -17.3025, -16.9271, -17.2807, -19.1625, -23.1603, -17.2169, -16.1986,\n",
              "         -17.0526, -22.7323, -17.4084, -17.1723, -17.6775]], device='cuda:0',\n",
              "       dtype=torch.float64), 'mesh': tensor([[410.0258, 410.0707, 410.1172,  ..., 474.4559, 474.3708, 474.2801],\n",
              "        [476.6389, 476.7641, 476.8891,  ..., 499.8621, 499.7251, 499.5895],\n",
              "        [-33.8585, -33.8449, -33.8320,  ..., -80.4937, -80.8363, -81.1674]],\n",
              "       device='cuda:0', dtype=torch.float64), 'pose': {'angles': [0.9806915875438581, 0.6189178268739142, -9.845230342502601], 'translation': tensor([442.7076, 483.5484, -88.6310], device='cuda:0', dtype=torch.float64)}})}), Face(indx=2, loc=Location(x1=299, x2=421, y1=320, y2=443), dims=Dimensions(height=123, width=122), tensor=tensor([[[ 0.3922,  0.3922,  0.3506,  ...,  0.8275,  0.8275,  0.8275],\n",
              "         [ 0.3922,  0.3922,  0.3506,  ...,  0.8275,  0.8275,  0.8275],\n",
              "         [ 0.3643,  0.3643,  0.3279,  ...,  0.8275,  0.8275,  0.8275],\n",
              "         ...,\n",
              "         [ 0.5589,  0.5589,  0.5534,  ...,  0.1160,  0.1128,  0.1128],\n",
              "         [ 0.5686,  0.5686,  0.5639,  ...,  0.1212,  0.1176,  0.1176],\n",
              "         [ 0.5686,  0.5686,  0.5639,  ...,  0.1212,  0.1176,  0.1176]],\n",
              "\n",
              "        [[ 0.2078,  0.2078,  0.1711,  ...,  0.6196,  0.6196,  0.6196],\n",
              "         [ 0.2078,  0.2078,  0.1711,  ...,  0.6196,  0.6196,  0.6196],\n",
              "         [ 0.1824,  0.1824,  0.1511,  ...,  0.6196,  0.6196,  0.6196],\n",
              "         ...,\n",
              "         [ 0.3119,  0.3119,  0.3064,  ...,  0.0376,  0.0368,  0.0368],\n",
              "         [ 0.3216,  0.3216,  0.3168,  ...,  0.0404,  0.0392,  0.0392],\n",
              "         [ 0.3216,  0.3216,  0.3168,  ...,  0.0404,  0.0392,  0.0392]],\n",
              "\n",
              "        [[ 0.1294,  0.1294,  0.0938,  ...,  0.5490,  0.5490,  0.5490],\n",
              "         [ 0.1294,  0.1294,  0.0938,  ...,  0.5490,  0.5490,  0.5490],\n",
              "         [ 0.1039,  0.1039,  0.0731,  ...,  0.5490,  0.5490,  0.5490],\n",
              "         ...,\n",
              "         [ 0.1888,  0.1888,  0.1833,  ..., -0.0161, -0.0181, -0.0181],\n",
              "         [ 0.1961,  0.1961,  0.1913,  ..., -0.0133, -0.0157, -0.0157],\n",
              "         [ 0.1961,  0.1961,  0.1913,  ..., -0.0133, -0.0157, -0.0157]]],\n",
              "       device='cuda:0'), ratio=0.012865226337448559, preds={'embed': Prediction(label='abstract', logits=tensor([-0.1078, -0.0443,  0.1308, -0.0616,  0.0668,  0.0422,  0.0835, -0.0712,\n",
              "         0.1602, -0.0923,  0.1279,  0.0360,  0.0722,  0.0267,  0.0432,  0.0171,\n",
              "         0.1706,  0.0711, -0.0707,  0.0405,  0.0838, -0.0893,  0.1141,  0.1304,\n",
              "         0.1049,  0.0695, -0.0473,  0.0369, -0.0811,  0.0417, -0.0857,  0.0526,\n",
              "        -0.0944, -0.0496, -0.0158,  0.1316, -0.0776,  0.0075,  0.2740, -0.0845,\n",
              "         0.0823,  0.0739, -0.0051,  0.1052, -0.0145,  0.1258,  0.0110,  0.0121,\n",
              "        -0.0286,  0.0691,  0.1213,  0.0203,  0.1180,  0.0584, -0.0302,  0.0684,\n",
              "        -0.2177, -0.0911, -0.0561, -0.0953, -0.0267, -0.1414, -0.0250,  0.0432,\n",
              "         0.1461,  0.0999,  0.0063, -0.0856,  0.1268,  0.1763, -0.0295, -0.0449,\n",
              "        -0.0963,  0.0012, -0.0137,  0.0417,  0.0163,  0.0314, -0.1749, -0.0477,\n",
              "         0.0633,  0.1684, -0.1134,  0.0416,  0.0806,  0.0814,  0.0236, -0.0881,\n",
              "        -0.0548,  0.0566,  0.0355, -0.0719,  0.0119, -0.0262,  0.0913, -0.1722,\n",
              "        -0.1748, -0.1074, -0.0472, -0.1057, -0.0827, -0.0193,  0.0137,  0.0274,\n",
              "        -0.1116, -0.1313,  0.0879,  0.2056, -0.0530,  0.0261,  0.0340,  0.0254,\n",
              "        -0.0391, -0.0236,  0.0845,  0.0154, -0.0278,  0.1095, -0.0321,  0.0851,\n",
              "         0.0861,  0.0764,  0.0051,  0.0743,  0.0716, -0.1028, -0.0507,  0.0444],\n",
              "       device='cuda:0'), other={}), 'verify': Prediction(label='abstract', logits=tensor([ 2.1623e-02,  1.3357e-02, -2.1224e-02, -5.2420e-02, -6.5355e-02,\n",
              "        -2.8886e-02,  8.8767e-02,  1.0384e-02, -8.5985e-02, -4.4964e-02,\n",
              "        -3.0722e-02, -3.9725e-02,  4.1774e-02, -2.2335e-02,  5.7877e-03,\n",
              "        -2.5202e-02, -2.4118e-02,  1.3191e-02, -6.7738e-02, -2.8914e-02,\n",
              "         1.1994e-03,  9.8108e-03, -8.2046e-03, -1.8931e-02,  1.6888e-02,\n",
              "        -1.4259e-02, -3.0527e-02,  5.1859e-03,  5.2742e-02,  2.4632e-02,\n",
              "        -6.4424e-02,  2.7805e-02, -1.0474e-01,  7.9886e-04,  3.8639e-02,\n",
              "         4.0357e-02,  1.5241e-02, -1.1299e-02, -3.9965e-02, -2.4961e-02,\n",
              "         9.4013e-03, -1.6294e-02, -1.4117e-02, -3.6487e-02, -7.4457e-03,\n",
              "        -6.2248e-02,  3.9911e-02,  1.2931e-02, -4.7388e-03, -5.8174e-02,\n",
              "        -3.9742e-02, -2.8877e-02, -1.8904e-02,  6.8735e-03, -1.9209e-02,\n",
              "         4.9245e-02,  2.8280e-02,  3.6842e-02, -3.8798e-02, -3.1957e-02,\n",
              "        -4.5293e-02, -9.3877e-03,  4.1295e-02,  2.6995e-02, -6.0693e-03,\n",
              "        -3.5265e-02,  2.1801e-02,  2.7849e-02,  7.0942e-02,  1.4257e-02,\n",
              "        -5.2501e-02,  6.6457e-02, -4.6031e-02, -5.2930e-03, -5.3685e-02,\n",
              "        -7.4769e-03,  3.0722e-02,  2.9898e-02, -2.4109e-02, -2.1900e-02,\n",
              "         5.2121e-02,  2.0930e-02,  4.0060e-02, -2.4876e-02, -7.3362e-02,\n",
              "        -1.5591e-02,  7.3817e-03,  1.8468e-02, -5.9596e-02,  1.7760e-03,\n",
              "        -2.1256e-02,  9.6167e-03,  3.3122e-02,  1.1116e-02,  7.9083e-05,\n",
              "         7.6956e-03,  3.6238e-02,  2.5092e-03,  3.4907e-04, -2.3442e-02,\n",
              "         5.9348e-02, -3.6389e-02, -4.8791e-02, -4.7826e-02, -1.5707e-03,\n",
              "        -3.6898e-02, -2.2362e-02, -1.8449e-02,  3.9503e-02,  2.4654e-02,\n",
              "        -3.8151e-02,  3.8443e-03,  4.5509e-02, -5.4117e-02,  7.9468e-02,\n",
              "         6.8718e-03, -8.6046e-02, -1.4829e-02,  2.7670e-02, -8.8284e-02,\n",
              "         3.3281e-02,  4.0269e-02, -8.7306e-02, -4.8336e-02, -8.3235e-02,\n",
              "         7.8905e-02, -2.1678e-02,  4.6210e-02, -6.6101e-02, -4.9806e-02,\n",
              "         9.3246e-04,  3.9616e-02, -1.8203e-02, -1.9427e-02, -2.8158e-02,\n",
              "        -1.3120e-02,  1.2049e-01, -4.1608e-02, -1.8746e-02,  5.9810e-02,\n",
              "         1.7008e-02, -3.1653e-02, -9.6764e-03, -3.5429e-02,  2.4061e-02,\n",
              "         4.6162e-02, -2.6475e-02,  2.8203e-02, -6.6950e-02,  5.8814e-02,\n",
              "        -1.8394e-02, -1.0898e-03,  5.1247e-02,  7.8856e-02,  3.2886e-02,\n",
              "         1.0283e-01, -2.6347e-02,  1.5566e-02, -3.8089e-03, -7.2036e-02,\n",
              "         1.8387e-03, -1.2737e-02, -6.1757e-02,  1.3455e-02,  2.2200e-02,\n",
              "         4.1811e-03,  5.9873e-02, -5.2767e-02, -3.1157e-02,  3.7703e-02,\n",
              "         2.9220e-02,  1.4677e-02, -3.6377e-02,  1.8119e-02,  1.8868e-02,\n",
              "        -7.0234e-06,  1.4664e-02, -3.9370e-02,  2.0761e-02,  8.2968e-02,\n",
              "        -4.0500e-02, -2.3188e-02,  3.5036e-02,  1.8033e-02,  3.0952e-02,\n",
              "        -3.3299e-02, -1.5450e-02,  2.5943e-02, -1.2789e-02,  6.4028e-02,\n",
              "         1.9091e-02,  2.7274e-02,  8.8020e-02, -4.4202e-02,  1.1587e-02,\n",
              "        -8.8527e-02, -3.0730e-02, -1.8587e-02,  4.3575e-02,  3.7227e-02,\n",
              "        -4.1261e-02, -2.9975e-02,  1.2999e-02, -5.2183e-02,  8.6646e-03,\n",
              "        -3.1015e-02, -1.6381e-02,  1.9163e-02, -2.9982e-03, -1.2839e-02,\n",
              "         4.9409e-02,  3.0407e-02,  3.8928e-02, -8.9478e-03, -3.4442e-02,\n",
              "        -1.0568e-02, -5.4530e-02, -3.9205e-03, -2.8170e-02,  5.1012e-02,\n",
              "         6.2959e-02, -3.4237e-02, -2.0312e-02,  2.0649e-02,  5.7556e-02,\n",
              "         2.8582e-03, -5.7731e-03,  3.6742e-02,  6.2877e-02,  8.1816e-02,\n",
              "         6.1531e-02, -2.5420e-02, -7.0293e-02,  7.2376e-02,  2.2799e-03,\n",
              "        -1.0288e-01, -1.8102e-02, -1.9238e-02, -3.0828e-03,  2.0006e-02,\n",
              "        -6.8131e-03,  3.0330e-03,  3.4850e-02, -3.9083e-02,  3.6663e-02,\n",
              "        -1.9533e-02, -5.3716e-02,  1.6384e-02, -8.1440e-02, -1.1414e-01,\n",
              "        -5.3979e-02, -5.7717e-02, -6.4847e-02, -7.5312e-02, -4.8873e-02,\n",
              "        -6.3427e-03, -4.8647e-02, -1.2783e-02, -2.3051e-02,  3.6786e-02,\n",
              "         1.4276e-02,  3.7877e-02,  8.2169e-02,  4.2250e-02,  2.5178e-02,\n",
              "        -2.9875e-02, -7.6459e-02, -6.4601e-02, -6.0022e-02, -4.8013e-02,\n",
              "        -1.8869e-02,  1.1162e-02,  2.1338e-02,  5.2131e-02,  1.3596e-01,\n",
              "         2.6669e-02, -4.5208e-02,  5.4239e-03, -4.3898e-02,  4.8295e-02,\n",
              "        -1.3188e-02,  3.5661e-02, -4.2571e-02, -4.4708e-02, -5.9521e-02,\n",
              "        -4.6075e-02,  9.2959e-03, -1.0809e-01,  1.0289e-02, -3.4489e-02,\n",
              "         8.6928e-02, -7.8305e-02,  4.2683e-02, -1.3434e-02,  8.3036e-02,\n",
              "        -7.7190e-02,  4.9951e-02, -1.0126e-02,  3.9473e-02, -4.9642e-02,\n",
              "         4.3116e-02,  1.0223e-02,  5.1009e-02,  8.4965e-02,  7.2258e-02,\n",
              "        -4.0004e-02,  2.0376e-02, -4.1180e-02, -2.3686e-02, -4.5824e-02,\n",
              "        -6.7777e-03, -3.3902e-02,  2.5825e-02,  3.9319e-02, -3.0902e-02,\n",
              "        -7.0296e-03,  3.0362e-02,  4.6994e-02, -6.1531e-02,  5.2634e-02,\n",
              "        -4.9066e-02,  4.9805e-02, -4.2550e-02, -1.7619e-02, -4.5259e-02,\n",
              "         2.7573e-02,  3.5682e-02, -4.0653e-02,  7.4474e-03,  9.2376e-03,\n",
              "        -9.8522e-02, -3.5912e-02,  4.9527e-02, -7.0395e-02,  9.1976e-03,\n",
              "         5.3336e-02, -9.2277e-03,  1.0049e-02, -1.2474e-02,  4.3902e-02,\n",
              "         7.1463e-02, -1.0575e-02, -1.6940e-02,  2.4525e-02,  6.2036e-02,\n",
              "         2.3418e-02, -2.5248e-02,  8.2978e-03,  5.7432e-02,  7.8721e-03,\n",
              "        -7.9517e-02, -1.4181e-02, -2.2227e-02, -2.5342e-02, -3.1580e-02,\n",
              "         7.9190e-02,  5.7350e-02, -2.1066e-02, -8.1648e-03, -3.8224e-02,\n",
              "         7.7943e-02,  5.6440e-02, -2.4916e-02, -1.0622e-01, -7.9561e-03,\n",
              "        -1.9001e-02, -4.4795e-02, -1.0893e-02, -1.4095e-02,  4.2082e-02,\n",
              "        -5.1643e-03,  3.9966e-03, -1.1747e-02,  8.3542e-03,  1.0677e-02,\n",
              "        -4.8403e-03, -1.2179e-02, -5.8633e-02, -1.7125e-02, -5.2568e-03,\n",
              "         4.6806e-02, -7.4960e-02, -3.3311e-02,  1.1837e-02, -3.9866e-02,\n",
              "        -2.9083e-02,  5.8020e-02, -5.2470e-02,  8.8146e-03, -1.7719e-02,\n",
              "         4.0546e-02,  4.4366e-02,  5.6160e-02, -5.2081e-02, -3.8323e-02,\n",
              "         4.8817e-02, -2.7673e-02, -3.4023e-02,  5.7279e-02,  2.6717e-02,\n",
              "        -7.4882e-02, -3.8793e-02, -1.8593e-02, -2.2363e-02, -3.4659e-02,\n",
              "        -6.5383e-02, -5.4123e-04, -1.8656e-02, -2.3456e-02, -2.2887e-02,\n",
              "         2.5548e-02, -2.7400e-02, -2.1500e-02, -3.0137e-02,  2.6564e-03,\n",
              "         1.4478e-02,  1.2884e-02, -5.0620e-02,  1.6990e-03,  8.4269e-02,\n",
              "        -3.0620e-02, -4.4655e-02, -4.5243e-02, -9.2711e-02, -9.9552e-03,\n",
              "         4.5190e-02, -4.2382e-02, -3.0904e-02,  1.2651e-02,  5.0853e-02,\n",
              "        -7.5731e-02,  4.0053e-03,  3.1478e-02, -4.0608e-02, -3.4572e-05,\n",
              "         2.1415e-02,  6.2931e-02, -2.1893e-02, -5.0307e-02, -7.9614e-02,\n",
              "         7.4835e-02,  4.3536e-02,  4.6031e-02, -4.1424e-02, -1.4164e-01,\n",
              "        -7.7768e-02, -3.7789e-02,  1.3257e-02, -4.4934e-02,  3.0143e-02,\n",
              "         3.6388e-02,  3.6322e-02,  3.6439e-02, -4.4317e-02, -2.8909e-02,\n",
              "        -3.3372e-02,  3.6984e-02,  7.7736e-02,  4.8016e-03, -7.2876e-02,\n",
              "         1.5749e-03, -1.0444e-01,  1.7338e-02, -2.3236e-02, -1.5616e-02,\n",
              "         7.6013e-03,  1.6739e-02, -2.7744e-02, -3.5881e-04, -7.1273e-02,\n",
              "        -9.3781e-02, -9.1331e-02, -2.6261e-02,  2.3755e-02, -6.5015e-02,\n",
              "         5.8219e-03, -1.0661e-01,  5.8110e-03, -9.4264e-03,  4.4090e-02,\n",
              "         2.3864e-03,  2.9443e-02,  9.3004e-02, -3.5552e-02, -4.5246e-02,\n",
              "        -3.1968e-02,  6.3959e-02,  1.9593e-02, -7.9014e-02,  4.0846e-02,\n",
              "        -1.8287e-02,  1.1910e-02, -1.4286e-02,  2.6545e-02,  3.6118e-02,\n",
              "        -3.2273e-02, -2.1285e-02,  1.2885e-02, -2.0391e-03, -3.7093e-03,\n",
              "        -5.9878e-02,  7.5391e-02, -3.5734e-02, -9.7841e-02,  4.1695e-03,\n",
              "        -2.2184e-02,  4.6137e-02,  7.8717e-03,  4.3265e-02,  6.7885e-02,\n",
              "        -2.0824e-03, -8.1726e-02], device='cuda:0'), other={}), 'fer': Prediction(label='Happiness', logits=tensor([-0.7743,  0.5161,  0.7916,  0.1711,  1.1482, -2.1804,  0.0751, -0.5898],\n",
              "       device='cuda:0'), other={}), 'deepfake': Prediction(label='Real', logits=tensor(0.0096, device='cuda:0'), other={}), 'align': Prediction(label='abstract', logits=tensor([ 0.7483,  0.7243,  0.6913, -0.6200, -0.7871,  0.4510, -0.3655,  0.1132,\n",
              "        -0.7725, -0.3131,  0.6013, -0.4128,  0.4244, -0.3277, -0.0604,  0.1736,\n",
              "        -0.2993, -0.0576, -0.0383, -0.0586, -0.5442, -0.2695, -0.0195,  0.1263,\n",
              "        -0.0271, -0.0918,  0.0095,  0.0801,  0.0093, -0.0184,  0.0652, -0.0206,\n",
              "        -0.0877, -0.1581,  0.0997, -0.1393,  0.1918, -0.1021,  0.0321,  0.1448,\n",
              "        -0.0244,  0.1042, -0.0052,  0.0478, -0.0077,  0.1242, -0.0789,  0.0669,\n",
              "         0.0285,  0.1360, -0.0472, -0.0162, -1.4733,  1.1879, -0.2093,  1.0925,\n",
              "         0.0928,  0.0060, -0.1327, -1.2298, -0.1004, -0.4475], device='cuda:0'), other={'lmk3d': tensor([[322.4344, 319.5052, 317.7502, 316.4601, 316.4232, 320.8355, 327.9917,\n",
              "         336.5476, 347.4857, 357.4425, 362.8517, 366.2025, 370.3768, 375.1039,\n",
              "         379.6491, 384.7917, 389.3970, 348.6187, 356.6213, 363.8156, 369.4817,\n",
              "         373.7033, 391.2701, 395.4704, 399.0779, 401.6130, 401.1507, 378.8766,\n",
              "         378.3539, 377.9741, 376.2791, 362.7413, 366.1245, 369.8400, 373.1251,\n",
              "         374.9012, 353.2505, 359.1001, 363.3814, 365.6285, 362.0531, 357.0409,\n",
              "         383.3188, 388.8895, 393.1686, 393.3499, 390.9870, 387.0883, 343.9808,\n",
              "         353.8556, 363.4304, 366.6982, 370.1106, 373.6960, 372.8936, 367.4683,\n",
              "         363.3031, 358.5169, 353.6880, 349.0257, 344.8552, 359.4916, 364.6589,\n",
              "         368.6493, 372.2251, 364.1788, 359.8525, 355.2601],\n",
              "        [349.2670, 360.3012, 370.8255, 380.6628, 392.3910, 403.7546, 413.2779,\n",
              "         423.5941, 431.7299, 432.4632, 428.4709, 423.4656, 415.9555, 406.2716,\n",
              "         397.7103, 388.7433, 378.4615, 347.3852, 346.6626, 348.4828, 351.3523,\n",
              "         354.6160, 362.2740, 362.5119, 363.5803, 365.9872, 370.1225, 369.7763,\n",
              "         377.2900, 384.4372, 389.9591, 389.1194, 391.2490, 393.6314, 394.2107,\n",
              "         394.2582, 358.4709, 358.2628, 360.1745, 364.1927, 363.9900, 361.9944,\n",
              "         371.9190, 371.2225, 373.1409, 376.0123, 376.7175, 374.8595, 395.5321,\n",
              "         395.5561, 397.2504, 399.3715, 400.1418, 404.1549, 408.7413, 413.8796,\n",
              "         415.3238, 413.9823, 411.0681, 405.5642, 396.0218, 399.2617, 401.3910,\n",
              "         403.2490, 408.5109, 411.0929, 409.7967, 406.8391],\n",
              "        [-55.7910, -55.3439, -55.8339, -55.4913, -53.3225, -48.6913, -42.9891,\n",
              "         -39.1485, -42.1600, -52.2773, -64.8283, -76.8395, -86.5973, -91.5059,\n",
              "         -93.7938, -95.5560, -97.0051, -28.9309, -25.2191, -23.9139, -24.1758,\n",
              "         -25.5699, -36.4413, -40.2316, -45.6594, -52.8606, -61.2218, -29.5573,\n",
              "         -24.9851, -20.4991, -19.5741, -28.1156, -27.4748, -28.5979, -31.8636,\n",
              "         -35.7309, -29.3244, -26.8345, -29.2541, -32.9779, -29.6881, -28.2139,\n",
              "         -44.0256, -45.1475, -47.8971, -54.0214, -49.0834, -45.1546, -33.9315,\n",
              "         -29.0252, -28.5583, -30.2412, -32.6697, -41.3980, -52.3855, -44.0187,\n",
              "         -38.1104, -34.2925, -31.9874, -32.4074, -34.6466, -30.6899, -32.2136,\n",
              "         -36.2519, -51.9986, -38.2558, -34.6391, -32.9969]], device='cuda:0',\n",
              "       dtype=torch.float64), 'mesh': tensor([[ 347.7706,  347.7401,  347.7110,  ...,  364.8742,  364.7274,\n",
              "          364.5808],\n",
              "        [ 350.1976,  350.3505,  350.5038,  ...,  398.9647,  398.6962,\n",
              "          398.4290],\n",
              "        [ -28.6256,  -28.6272,  -28.6305,  ..., -109.0267, -109.3357,\n",
              "         -109.6300]], device='cuda:0', dtype=torch.float64), 'pose': {'angles': [-26.35296460282643, -12.02923820060976, 25.61196639874359], 'translation': tensor([348.1778, 392.7977, -84.2011], device='cuda:0', dtype=torch.float64)}})}), Face(indx=3, loc=Location(x1=705, x2=810, y1=386, y2=492), dims=Dimensions(height=106, width=105), tensor=tensor([[[ 0.5255,  0.5255,  0.5173,  ...,  0.1137,  0.1137,  0.1137],\n",
              "         [ 0.5255,  0.5255,  0.5173,  ...,  0.1137,  0.1137,  0.1137],\n",
              "         [ 0.5162,  0.5162,  0.5044,  ...,  0.1182,  0.1184,  0.1184],\n",
              "         ...,\n",
              "         [ 0.6580,  0.6580,  0.6566,  ...,  0.5020,  0.5020,  0.5020],\n",
              "         [ 0.6588,  0.6588,  0.6573,  ...,  0.5020,  0.5020,  0.5020],\n",
              "         [ 0.6588,  0.6588,  0.6573,  ...,  0.5020,  0.5020,  0.5020]],\n",
              "\n",
              "        [[ 0.2863,  0.2863,  0.2825,  ...,  0.0314,  0.0314,  0.0314],\n",
              "         [ 0.2863,  0.2863,  0.2825,  ...,  0.0314,  0.0314,  0.0314],\n",
              "         [ 0.2824,  0.2824,  0.2747,  ...,  0.0329,  0.0329,  0.0329],\n",
              "         ...,\n",
              "         [ 0.3200,  0.3200,  0.3185,  ...,  0.2039,  0.2039,  0.2039],\n",
              "         [ 0.3216,  0.3216,  0.3201,  ...,  0.2039,  0.2039,  0.2039],\n",
              "         [ 0.3216,  0.3216,  0.3201,  ...,  0.2039,  0.2039,  0.2039]],\n",
              "\n",
              "        [[ 0.2275,  0.2275,  0.2222,  ..., -0.0235, -0.0235, -0.0235],\n",
              "         [ 0.2275,  0.2275,  0.2222,  ..., -0.0235, -0.0235, -0.0235],\n",
              "         [ 0.2236,  0.2236,  0.2142,  ..., -0.0228, -0.0228, -0.0228],\n",
              "         ...,\n",
              "         [ 0.1718,  0.1718,  0.1703,  ...,  0.0863,  0.0863,  0.0863],\n",
              "         [ 0.1725,  0.1725,  0.1711,  ...,  0.0863,  0.0863,  0.0863],\n",
              "         [ 0.1725,  0.1725,  0.1711,  ...,  0.0863,  0.0863,  0.0863]]],\n",
              "       device='cuda:0'), ratio=0.009542181069958848, preds={'embed': Prediction(label='abstract', logits=tensor([ 0.1191,  0.0269, -0.0610,  0.0205, -0.0837, -0.0522, -0.0154,  0.0709,\n",
              "         0.0866,  0.0450,  0.0996, -0.0979,  0.1386,  0.1614, -0.0184, -0.0944,\n",
              "         0.1492,  0.0236,  0.1574, -0.0245,  0.1180,  0.0519, -0.0179, -0.0370,\n",
              "        -0.0189,  0.1382,  0.0221,  0.0718, -0.0958, -0.0872,  0.0467, -0.1204,\n",
              "         0.1428,  0.0162, -0.1398,  0.0066, -0.1079,  0.0768, -0.0125,  0.0207,\n",
              "         0.1607,  0.1257,  0.0269, -0.0199,  0.0966, -0.0911, -0.0136,  0.0343,\n",
              "        -0.0484, -0.0774,  0.0363,  0.0473, -0.0401, -0.0897, -0.0845,  0.1617,\n",
              "         0.0819,  0.0308, -0.0948,  0.1877, -0.1499, -0.0256,  0.1714, -0.0816,\n",
              "        -0.1168,  0.0347, -0.0458, -0.0637, -0.0008,  0.0934, -0.0138, -0.0948,\n",
              "        -0.0441, -0.0677, -0.1455,  0.0366,  0.1181,  0.0201, -0.0025,  0.0400,\n",
              "        -0.1116,  0.0361, -0.0278, -0.0495, -0.0361,  0.1928, -0.0535, -0.1051,\n",
              "         0.1408, -0.0613, -0.0230,  0.1362,  0.1196, -0.0178,  0.1038, -0.0588,\n",
              "         0.0082,  0.1619,  0.0013,  0.1012, -0.1850, -0.1385, -0.0486,  0.0524,\n",
              "        -0.0028, -0.0827, -0.0866,  0.1029, -0.0643, -0.0893, -0.0985, -0.1157,\n",
              "         0.0054,  0.0350, -0.0583, -0.0420, -0.0933, -0.0505,  0.0451,  0.0127,\n",
              "         0.0377, -0.0437,  0.0057, -0.1367, -0.0182, -0.0273,  0.1088,  0.1915],\n",
              "       device='cuda:0'), other={}), 'verify': Prediction(label='abstract', logits=tensor([-2.4787e-02, -9.3951e-02, -2.3579e-02, -7.0101e-02, -3.2274e-02,\n",
              "        -1.1005e-02, -7.8549e-02, -1.6480e-02, -8.5437e-03,  7.3927e-04,\n",
              "        -3.3317e-02,  4.3748e-02,  8.6258e-02,  6.3766e-02,  2.9837e-02,\n",
              "         1.4837e-02, -2.9495e-02, -9.8173e-03, -5.8353e-02, -6.0209e-02,\n",
              "        -4.7339e-02,  9.8612e-03, -1.5724e-03,  3.1758e-02, -8.3475e-02,\n",
              "        -1.6755e-02,  2.2702e-02,  1.4449e-02, -3.4170e-02,  1.9159e-03,\n",
              "        -1.6479e-02, -3.4566e-02,  3.3622e-02, -3.8905e-02,  7.5334e-02,\n",
              "        -2.5702e-02,  7.2018e-02, -2.6141e-02, -9.8677e-03, -5.2139e-02,\n",
              "         2.4675e-02,  4.2543e-02,  3.1278e-02,  4.6550e-02, -1.0864e-04,\n",
              "         1.9351e-02, -1.2614e-02,  2.8800e-03,  3.9521e-02,  1.8603e-02,\n",
              "         2.3908e-02, -2.0573e-02, -2.6458e-02,  2.0008e-02,  5.3872e-02,\n",
              "         2.4387e-05, -6.5784e-02, -7.8488e-03, -3.5350e-02,  5.0913e-02,\n",
              "         1.0766e-02,  3.6196e-02, -8.0322e-03, -5.2242e-02, -5.2053e-02,\n",
              "         3.0791e-02, -3.5818e-02,  5.2740e-02, -1.1930e-02, -2.8990e-02,\n",
              "        -5.4077e-02, -6.3397e-02, -8.1229e-02, -1.1818e-03,  2.4536e-02,\n",
              "        -7.4387e-02,  1.5676e-02,  1.1129e-02,  6.4266e-02,  6.6179e-02,\n",
              "         1.0196e-01,  8.6984e-03, -1.8415e-02,  4.8412e-02, -6.6456e-02,\n",
              "         2.5535e-03, -1.0200e-02, -1.0750e-02, -2.2956e-02, -5.0583e-02,\n",
              "         6.4804e-02,  4.5195e-03, -7.7484e-02,  3.5942e-05, -1.3919e-01,\n",
              "         3.8237e-02, -1.3718e-02,  4.4327e-02, -5.2987e-02, -1.5574e-03,\n",
              "         2.3903e-03, -6.2656e-02, -5.2520e-03, -5.0732e-02,  4.6136e-02,\n",
              "        -1.0151e-02, -7.6759e-02,  5.0565e-02, -2.3794e-02, -6.4064e-03,\n",
              "        -2.2599e-02, -5.0968e-02,  8.0812e-03,  1.8378e-02, -6.0329e-02,\n",
              "        -8.0065e-03, -4.1473e-02, -7.8535e-03, -3.2376e-02, -4.7921e-02,\n",
              "        -2.3664e-02,  4.4142e-03, -4.0112e-02, -1.7491e-02, -8.1422e-02,\n",
              "        -5.5747e-02, -2.2315e-02, -7.7675e-02,  2.8536e-02,  7.6586e-02,\n",
              "         3.7303e-02, -2.2675e-02,  3.1649e-02,  8.9194e-03,  5.9177e-03,\n",
              "        -3.5000e-02, -2.8069e-02,  3.4962e-02,  5.4618e-02,  5.4028e-02,\n",
              "        -7.7664e-02, -2.1368e-03, -5.6420e-02, -5.5012e-02, -4.0898e-02,\n",
              "         9.6665e-02,  4.9468e-02,  3.1323e-02, -2.4597e-02,  6.1896e-02,\n",
              "        -4.4635e-02,  4.0157e-02, -6.0590e-02, -5.6523e-02, -1.5289e-02,\n",
              "        -1.5189e-04, -3.5461e-03, -5.0247e-02,  1.2649e-02,  2.1405e-03,\n",
              "         2.1194e-02,  5.3152e-02, -1.0607e-02, -1.3031e-02, -2.7831e-02,\n",
              "        -2.6007e-02,  3.1492e-02, -1.6546e-02, -6.4856e-02,  6.9071e-02,\n",
              "         6.0210e-02, -6.3039e-02,  2.1026e-02, -1.9463e-02,  1.2375e-02,\n",
              "         3.9964e-02,  4.2364e-02,  5.0125e-02,  1.1156e-02, -3.0686e-02,\n",
              "         4.7272e-02, -9.8982e-02, -1.3311e-02, -5.6703e-03, -1.6912e-02,\n",
              "        -1.2232e-02,  3.7870e-02, -5.0017e-02,  3.9185e-02, -3.5576e-02,\n",
              "         2.0802e-02, -7.7499e-02,  2.6757e-02, -3.7255e-03,  8.6898e-02,\n",
              "        -5.0186e-02, -2.5211e-02,  3.1875e-02,  6.1940e-02,  3.6671e-02,\n",
              "         5.4725e-02,  6.8292e-02, -3.9574e-02,  1.9740e-02, -2.7027e-02,\n",
              "         1.9491e-02, -2.0142e-02,  4.7435e-02,  3.9694e-03, -3.8674e-02,\n",
              "         8.1788e-02,  1.7888e-02, -6.0968e-02, -6.9579e-02, -1.2643e-02,\n",
              "        -5.1953e-02,  3.7360e-02,  5.2538e-03, -7.9439e-03, -2.4560e-02,\n",
              "         5.4965e-02,  6.5883e-02,  3.3200e-02,  1.0290e-02,  5.1376e-02,\n",
              "         3.1300e-02, -1.1402e-02, -2.6612e-02,  2.3684e-02, -3.6261e-02,\n",
              "         7.7833e-03,  4.0411e-02,  2.2732e-02, -3.3496e-02, -2.4681e-02,\n",
              "        -3.5715e-02,  2.5676e-02,  1.9841e-02,  2.3033e-02, -4.0280e-02,\n",
              "         6.8254e-03,  8.2322e-02, -1.1957e-02,  4.7259e-02, -1.9320e-02,\n",
              "         7.6720e-03,  4.3976e-02,  6.6950e-02, -5.7057e-02,  3.0396e-02,\n",
              "        -2.5313e-02,  6.7927e-03,  1.4904e-02, -5.0432e-03, -9.4131e-02,\n",
              "         3.6246e-02,  3.5340e-02, -2.4341e-02, -3.6135e-02,  6.5302e-02,\n",
              "         1.2370e-02,  1.5854e-02, -8.9911e-02, -4.2530e-02,  4.3471e-03,\n",
              "         3.9251e-03, -8.7645e-02,  3.0994e-02,  7.3467e-02,  2.0329e-02,\n",
              "         3.7050e-02,  4.5841e-02,  3.0385e-02,  3.4189e-02,  2.5697e-02,\n",
              "        -2.1223e-03,  5.9511e-02, -1.9566e-02, -1.2186e-02,  1.6993e-02,\n",
              "         8.4330e-02, -3.5230e-02,  1.5336e-02, -1.9385e-02,  5.2693e-02,\n",
              "        -2.9140e-02, -1.9748e-02, -1.2574e-02,  1.8707e-02, -8.9831e-02,\n",
              "        -8.2629e-03,  1.3034e-02,  5.0392e-02,  1.9654e-03, -4.7112e-02,\n",
              "         1.9715e-02,  4.5283e-02, -4.9115e-02, -6.9658e-03, -1.8551e-02,\n",
              "         4.9995e-02, -4.8250e-02,  4.4386e-03,  6.1540e-02, -3.8347e-02,\n",
              "        -1.5795e-02,  4.4579e-02, -5.9317e-02,  5.3575e-02,  1.6483e-02,\n",
              "        -8.1255e-03,  8.9507e-02, -4.7478e-02, -5.5171e-02,  4.7435e-03,\n",
              "        -7.0446e-02, -1.0282e-02,  6.5050e-03,  1.1431e-03,  2.2214e-02,\n",
              "        -3.3075e-02, -3.7601e-02,  5.2023e-03,  5.7958e-03,  2.0231e-02,\n",
              "         2.4148e-02,  1.7390e-02, -4.2077e-02, -8.7930e-02, -1.9207e-02,\n",
              "         2.8532e-02,  5.7182e-02, -8.9459e-02,  5.0622e-02,  2.8996e-02,\n",
              "        -4.8953e-02,  4.8663e-02, -3.1401e-02,  1.7975e-02,  5.9123e-02,\n",
              "        -3.9790e-02,  1.3069e-02,  2.2830e-02, -4.8639e-02,  1.3021e-03,\n",
              "        -7.5808e-02, -3.0969e-02,  1.4431e-02,  6.1616e-03, -7.5308e-03,\n",
              "         5.3473e-02,  1.4981e-02, -1.0650e-01, -1.7043e-02, -5.3744e-02,\n",
              "        -2.2150e-02,  7.0164e-02,  2.2591e-02, -3.7532e-02,  2.7939e-02,\n",
              "         4.4732e-02, -1.3824e-02, -3.2722e-02,  2.2079e-02, -2.7825e-02,\n",
              "         5.1179e-02, -7.3585e-03, -1.6793e-02, -3.1526e-02, -1.7733e-02,\n",
              "        -7.1713e-02,  6.1630e-02,  5.8699e-02, -6.0291e-02,  2.4164e-02,\n",
              "        -5.0566e-02,  4.9578e-02, -3.7775e-02, -1.9764e-02,  1.8147e-03,\n",
              "        -2.0245e-02,  3.7680e-02, -9.7815e-02, -9.8553e-04, -2.1214e-02,\n",
              "        -6.9700e-02, -4.2073e-02,  9.3015e-03, -3.6372e-03,  9.0831e-03,\n",
              "        -7.0598e-03,  4.3776e-02, -4.5475e-02,  6.4287e-02, -1.5794e-03,\n",
              "         5.4754e-02, -2.5378e-03, -3.3174e-02,  2.9280e-02,  1.2953e-02,\n",
              "         3.4344e-02,  9.2022e-02, -1.4748e-02, -7.3522e-02, -1.8636e-02,\n",
              "        -1.1897e-02,  2.3242e-03, -9.0361e-03, -5.3814e-02,  5.8737e-02,\n",
              "        -4.5974e-03,  4.5351e-02, -4.3195e-02, -6.1418e-02, -1.3683e-01,\n",
              "         6.7964e-02,  9.9740e-03, -1.4897e-02, -1.1211e-02, -2.3606e-02,\n",
              "        -3.6625e-02, -5.5194e-02, -1.7616e-02, -6.9511e-02, -4.2939e-02,\n",
              "        -4.0146e-02,  2.9868e-02, -7.3133e-02, -3.3077e-02,  1.2541e-01,\n",
              "         7.1946e-03, -5.3999e-02, -5.8439e-03,  6.4766e-02,  4.1844e-02,\n",
              "         1.1123e-02,  4.1868e-02, -4.7624e-02, -4.3604e-02,  1.3644e-02,\n",
              "        -8.5649e-02, -5.6580e-02,  3.6556e-02, -4.8164e-02,  3.6192e-02,\n",
              "         1.3083e-02,  1.3620e-02, -3.2659e-02, -2.1768e-03, -9.7509e-02,\n",
              "        -3.2536e-02,  1.2930e-02,  9.7802e-04, -4.4758e-02, -5.1475e-02,\n",
              "         4.9335e-02, -4.8445e-02, -2.4788e-02,  5.1286e-02, -2.7816e-02,\n",
              "        -7.6336e-02,  2.4556e-02, -1.7328e-02, -2.7881e-02, -5.7933e-02,\n",
              "         6.7448e-02,  9.4987e-02, -1.6422e-02, -1.0892e-01,  1.4071e-02,\n",
              "         8.1929e-03,  8.3792e-02,  1.4687e-02, -2.4182e-02, -9.8343e-02,\n",
              "        -2.6206e-02,  6.0391e-02,  6.3149e-02,  1.0626e-02,  4.1318e-03,\n",
              "         2.7324e-02, -4.0185e-02,  6.4801e-02,  1.0341e-02, -4.4409e-02,\n",
              "        -6.2913e-03, -3.3980e-02, -4.7296e-02,  4.1644e-02,  3.8506e-02,\n",
              "        -2.2262e-02,  1.1897e-02, -1.6047e-02, -4.4357e-02, -3.8610e-02,\n",
              "         1.1604e-01, -5.1820e-02, -8.5557e-03, -4.0071e-02, -1.0603e-02,\n",
              "        -4.1913e-03, -4.9334e-02,  2.1774e-02,  1.1230e-02,  8.0344e-03,\n",
              "         3.8387e-02,  4.0310e-02, -1.2222e-01,  1.3768e-02,  3.6629e-02,\n",
              "        -5.7195e-02, -1.8937e-03], device='cuda:0'), other={}), 'fer': Prediction(label='Disgust', logits=tensor([ 1.1259,  0.1022,  2.1094, -1.2048, -1.4426, -0.9745, -0.6124, -1.5098],\n",
              "       device='cuda:0'), other={}), 'deepfake': Prediction(label='Real', logits=tensor(0.0098, device='cuda:0'), other={}), 'align': Prediction(label='abstract', logits=tensor([ 1.5367e+00,  7.0820e-01, -3.7660e-01,  8.5382e-02, -9.7871e-01,\n",
              "         3.2279e-01, -7.4358e-01,  1.9517e-01,  6.8566e-02,  1.6826e+00,\n",
              "         1.1951e+00, -6.9506e-02,  3.0225e-01,  7.7492e-02,  5.5109e-01,\n",
              "         1.2191e-01,  2.6557e-01,  1.6878e-01, -4.2301e-01,  3.2042e-01,\n",
              "         2.5606e-01,  2.1154e-01,  6.2840e-02, -3.0345e-02,  8.2057e-04,\n",
              "         5.8836e-02, -2.8210e-01,  9.5958e-02,  1.3002e-01,  4.3176e-02,\n",
              "        -2.1930e-01, -2.2252e-02,  1.4804e-02,  1.0372e-01,  5.3328e-02,\n",
              "         7.5989e-03, -4.5444e-02,  4.9213e-02, -2.0087e-02, -4.6681e-02,\n",
              "         4.6744e-02, -1.9559e-02,  2.7188e-02, -1.9608e-02, -4.1701e-02,\n",
              "         5.3806e-03,  8.6397e-02, -5.5579e-02, -1.6124e-02, -3.3927e-03,\n",
              "         3.8676e-02, -5.3835e-02,  1.2553e+00, -5.5950e-01,  4.8588e-02,\n",
              "        -6.6959e-01, -2.0676e-02, -1.7767e-01, -2.7815e-01,  7.6024e-01,\n",
              "         4.2427e-02,  5.8813e-02], device='cuda:0'), other={'lmk3d': tensor([[722.6089, 719.7313, 718.3556, 717.0369, 715.7759, 716.5374, 718.7440,\n",
              "         723.2383, 733.0915, 746.0693, 757.0334, 766.6616, 775.8225, 782.7007,\n",
              "         788.0907, 793.6326, 798.6204, 728.2959, 732.7812, 737.8212, 742.4277,\n",
              "         746.5124, 766.6789, 772.2284, 778.1964, 784.2749, 788.4245, 752.3798,\n",
              "         749.1167, 745.8977, 743.7403, 737.7791, 739.8138, 742.9721, 746.9559,\n",
              "         750.1746, 731.8615, 735.1111, 739.8805, 743.6923, 739.0171, 734.2155,\n",
              "         764.1313, 769.2753, 774.2374, 777.7408, 772.9453, 767.6821, 727.4644,\n",
              "         731.9827, 737.6349, 740.2618, 743.3795, 748.8683, 753.8640, 747.2516,\n",
              "         742.1950, 737.8204, 733.9088, 730.9301, 728.8281, 735.9244, 739.5077,\n",
              "         743.3582, 752.9516, 743.2729, 739.4168, 735.9487],\n",
              "        [408.7842, 418.2156, 427.2901, 435.6769, 445.5484, 455.9455, 465.0125,\n",
              "         474.0249, 481.5706, 483.2828, 480.7741, 476.5947, 470.2272, 462.5881,\n",
              "         455.8184, 448.5316, 440.0092, 412.0104, 412.4744, 415.0917, 418.3430,\n",
              "         421.6890, 429.8843, 430.3414, 431.3549, 433.3194, 436.5958, 435.7704,\n",
              "         442.7354, 449.5139, 454.3313, 452.4728, 454.6403, 456.9816, 457.6325,\n",
              "         457.6008, 422.5447, 423.3710, 425.4433, 428.9399, 428.5584, 426.2681,\n",
              "         437.3083, 437.4337, 439.4489, 441.4761, 442.1156, 440.2767, 457.4210,\n",
              "         459.5648, 461.2961, 463.0281, 463.7272, 466.6226, 468.3218, 469.3173,\n",
              "         469.4971, 468.1576, 466.1067, 462.6424, 457.9114, 463.0473, 464.8015,\n",
              "         466.2069, 467.8435, 465.5248, 464.2738, 462.4833],\n",
              "        [-57.6103, -60.2485, -62.9428, -64.2053, -62.8291, -57.0956, -48.3083,\n",
              "         -39.8762, -36.4851, -38.7300, -46.4018, -54.6164, -59.9738, -61.1060,\n",
              "         -59.7383, -56.9512, -54.1306, -20.9502, -13.3256,  -8.3541,  -5.6181,\n",
              "          -4.6199,  -3.7015,  -4.2482,  -6.4993, -10.9276, -18.2017,  -6.8855,\n",
              "          -4.6823,  -2.4290,  -3.5778, -16.5720, -14.4974, -13.5870, -14.1524,\n",
              "         -15.9583, -19.9559, -14.7061, -14.3479, -16.2522, -15.8012, -17.3276,\n",
              "         -15.4233, -13.1440, -13.0120, -17.9059, -15.5585, -14.5331, -26.5534,\n",
              "         -19.8063, -15.9716, -15.7372, -15.6962, -18.9925, -25.1476, -20.8688,\n",
              "         -19.4571, -19.2614, -19.8303, -21.6833, -25.8703, -19.7717, -18.7165,\n",
              "         -19.4512, -24.6879, -18.2841, -18.1130, -18.7326]], device='cuda:0',\n",
              "       dtype=torch.float64), 'mesh': tensor([[727.3216, 727.2895, 727.2591,  ..., 784.9728, 785.0380, 785.0951],\n",
              "        [414.4312, 414.5647, 414.6988,  ..., 453.3300, 453.0507, 452.7737],\n",
              "        [-21.5917, -21.6312, -21.6715,  ..., -80.4147, -80.7058, -80.9854]],\n",
              "       device='cuda:0', dtype=torch.float64), 'pose': {'angles': [3.271021378369607, -18.925860517035765, 19.51813201759338], 'translation': tensor([759.5795, 449.7995, -77.9204], device='cuda:0', dtype=torch.float64)}})})], version='0.2.0')"
            ]
          },
          "metadata": {},
          "execution_count": 22
        },
        {
          "output_type": "stream",
          "name": "stdout",
          "text": [
            "time: 105 ms (started: 2023-01-28 13:59:26 +00:00)\n"
          ]
        }
      ]
    },
    {
      "cell_type": "code",
      "source": [],
      "metadata": {
        "id": "TemfggNydBhe"
      },
      "execution_count": null,
      "outputs": []
    }
  ]
}